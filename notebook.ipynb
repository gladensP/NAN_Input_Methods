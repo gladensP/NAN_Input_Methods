{
 "cells": [
  {
   "cell_type": "code",
   "execution_count": 1,
   "metadata": {},
   "outputs": [],
   "source": [
    "import pandas as pd\n",
    "import numpy as np\n",
    "import matplotlib.pyplot as plt\n",
    "import seaborn as sns\n",
    "import sklearn\n",
    "import datetime\n",
    "import xgboost as xgb\n",
    "\n",
    "\n",
    "from sklearn.preprocessing import LabelEncoder\n",
    "from sklearn.model_selection import train_test_split\n",
    "from sklearn.linear_model import LinearRegression\n",
    "from sklearn.impute import SimpleImputer\n",
    "from sklearn.impute import KNNImputer\n",
    "from sklearn.metrics import mean_absolute_error\n",
    "from sklearn.metrics import mean_squared_error\n",
    "from xgboost import XGBRegressor"
   ]
  },
  {
   "cell_type": "code",
   "execution_count": 2,
   "metadata": {},
   "outputs": [
    {
     "data": {
      "text/html": [
       "<div>\n",
       "<style scoped>\n",
       "    .dataframe tbody tr th:only-of-type {\n",
       "        vertical-align: middle;\n",
       "    }\n",
       "\n",
       "    .dataframe tbody tr th {\n",
       "        vertical-align: top;\n",
       "    }\n",
       "\n",
       "    .dataframe thead th {\n",
       "        text-align: right;\n",
       "    }\n",
       "</style>\n",
       "<table border=\"1\" class=\"dataframe\">\n",
       "  <thead>\n",
       "    <tr style=\"text-align: right;\">\n",
       "      <th></th>\n",
       "      <th>Location</th>\n",
       "      <th>Maker</th>\n",
       "      <th>Model</th>\n",
       "      <th>Year</th>\n",
       "      <th>Colour</th>\n",
       "      <th>Amount (Million ₦)</th>\n",
       "      <th>Type</th>\n",
       "      <th>Distance_Km</th>\n",
       "    </tr>\n",
       "  </thead>\n",
       "  <tbody>\n",
       "    <tr>\n",
       "      <th>0</th>\n",
       "      <td>Abuja</td>\n",
       "      <td>Mercedes-Benz</td>\n",
       "      <td>GLA 250</td>\n",
       "      <td>2015</td>\n",
       "      <td>Brown</td>\n",
       "      <td>14.50</td>\n",
       "      <td>Foreign Used</td>\n",
       "      <td>50000.0</td>\n",
       "    </tr>\n",
       "    <tr>\n",
       "      <th>1</th>\n",
       "      <td>Abuja</td>\n",
       "      <td>Hyundai</td>\n",
       "      <td>Accent</td>\n",
       "      <td>2013</td>\n",
       "      <td>Red</td>\n",
       "      <td>1.55</td>\n",
       "      <td>Nigerian Used</td>\n",
       "      <td>NaN</td>\n",
       "    </tr>\n",
       "    <tr>\n",
       "      <th>2</th>\n",
       "      <td>Lagos</td>\n",
       "      <td>Lexus</td>\n",
       "      <td>GX 460 Premium</td>\n",
       "      <td>2011</td>\n",
       "      <td>White</td>\n",
       "      <td>14.00</td>\n",
       "      <td>Foreign Used</td>\n",
       "      <td>85000.0</td>\n",
       "    </tr>\n",
       "    <tr>\n",
       "      <th>3</th>\n",
       "      <td>Lagos</td>\n",
       "      <td>Lexus</td>\n",
       "      <td>ES 350</td>\n",
       "      <td>2011</td>\n",
       "      <td>Gray</td>\n",
       "      <td>4.95</td>\n",
       "      <td>Foreign Used</td>\n",
       "      <td>NaN</td>\n",
       "    </tr>\n",
       "    <tr>\n",
       "      <th>4</th>\n",
       "      <td>Ibadan</td>\n",
       "      <td>Toyota</td>\n",
       "      <td>Verso 1.6</td>\n",
       "      <td>2009</td>\n",
       "      <td>Silver</td>\n",
       "      <td>1.69</td>\n",
       "      <td>Nigerian Used</td>\n",
       "      <td>118906.0</td>\n",
       "    </tr>\n",
       "  </tbody>\n",
       "</table>\n",
       "</div>"
      ],
      "text/plain": [
       "  Location          Maker           Model  Year  Colour  Amount (Million ₦)  \\\n",
       "0    Abuja  Mercedes-Benz         GLA 250  2015   Brown               14.50   \n",
       "1    Abuja        Hyundai          Accent  2013     Red                1.55   \n",
       "2    Lagos          Lexus  GX 460 Premium  2011   White               14.00   \n",
       "3    Lagos          Lexus          ES 350  2011    Gray                4.95   \n",
       "4   Ibadan         Toyota       Verso 1.6  2009  Silver                1.69   \n",
       "\n",
       "            Type  Distance_Km  \n",
       "0   Foreign Used      50000.0  \n",
       "1  Nigerian Used          NaN  \n",
       "2   Foreign Used      85000.0  \n",
       "3   Foreign Used          NaN  \n",
       "4  Nigerian Used     118906.0  "
      ]
     },
     "execution_count": 2,
     "metadata": {},
     "output_type": "execute_result"
    }
   ],
   "source": [
    "df = pd.read_excel(\"cars.xlsx\") \n",
    "\n",
    "df.head()"
   ]
  },
  {
   "cell_type": "code",
   "execution_count": 3,
   "metadata": {},
   "outputs": [
    {
     "data": {
      "text/plain": [
       "(4487, 8)"
      ]
     },
     "execution_count": 3,
     "metadata": {},
     "output_type": "execute_result"
    }
   ],
   "source": [
    "df.shape"
   ]
  },
  {
   "cell_type": "code",
   "execution_count": 4,
   "metadata": {},
   "outputs": [
    {
     "name": "stdout",
     "output_type": "stream",
     "text": [
      "<class 'pandas.core.frame.DataFrame'>\n",
      "RangeIndex: 4487 entries, 0 to 4486\n",
      "Data columns (total 8 columns):\n",
      " #   Column              Non-Null Count  Dtype  \n",
      "---  ------              --------------  -----  \n",
      " 0   Location            4487 non-null   object \n",
      " 1   Maker               4487 non-null   object \n",
      " 2   Model               4487 non-null   object \n",
      " 3   Year                4487 non-null   int64  \n",
      " 4   Colour              4487 non-null   object \n",
      " 5   Amount (Million ₦)  4487 non-null   float64\n",
      " 6   Type                4487 non-null   object \n",
      " 7   Distance_Km         2932 non-null   float64\n",
      "dtypes: float64(2), int64(1), object(5)\n",
      "memory usage: 280.6+ KB\n"
     ]
    }
   ],
   "source": [
    "df.info()"
   ]
  },
  {
   "cell_type": "code",
   "execution_count": 5,
   "metadata": {},
   "outputs": [
    {
     "data": {
      "text/html": [
       "<div>\n",
       "<style scoped>\n",
       "    .dataframe tbody tr th:only-of-type {\n",
       "        vertical-align: middle;\n",
       "    }\n",
       "\n",
       "    .dataframe tbody tr th {\n",
       "        vertical-align: top;\n",
       "    }\n",
       "\n",
       "    .dataframe thead th {\n",
       "        text-align: right;\n",
       "    }\n",
       "</style>\n",
       "<table border=\"1\" class=\"dataframe\">\n",
       "  <thead>\n",
       "    <tr style=\"text-align: right;\">\n",
       "      <th></th>\n",
       "      <th>Location</th>\n",
       "      <th>Maker</th>\n",
       "      <th>Model</th>\n",
       "      <th>Year</th>\n",
       "      <th>Colour</th>\n",
       "      <th>Amount (Million ₦)</th>\n",
       "      <th>Type</th>\n",
       "      <th>Distance_Km</th>\n",
       "    </tr>\n",
       "  </thead>\n",
       "  <tbody>\n",
       "    <tr>\n",
       "      <th>count</th>\n",
       "      <td>4487</td>\n",
       "      <td>4487</td>\n",
       "      <td>4487</td>\n",
       "      <td>4487.000000</td>\n",
       "      <td>4487</td>\n",
       "      <td>4487.000000</td>\n",
       "      <td>4487</td>\n",
       "      <td>2.932000e+03</td>\n",
       "    </tr>\n",
       "    <tr>\n",
       "      <th>unique</th>\n",
       "      <td>3</td>\n",
       "      <td>47</td>\n",
       "      <td>897</td>\n",
       "      <td>NaN</td>\n",
       "      <td>19</td>\n",
       "      <td>NaN</td>\n",
       "      <td>3</td>\n",
       "      <td>NaN</td>\n",
       "    </tr>\n",
       "    <tr>\n",
       "      <th>top</th>\n",
       "      <td>Abuja</td>\n",
       "      <td>Toyota</td>\n",
       "      <td>Camry</td>\n",
       "      <td>NaN</td>\n",
       "      <td>Black</td>\n",
       "      <td>NaN</td>\n",
       "      <td>Foreign Used</td>\n",
       "      <td>NaN</td>\n",
       "    </tr>\n",
       "    <tr>\n",
       "      <th>freq</th>\n",
       "      <td>2083</td>\n",
       "      <td>1807</td>\n",
       "      <td>437</td>\n",
       "      <td>NaN</td>\n",
       "      <td>1276</td>\n",
       "      <td>NaN</td>\n",
       "      <td>3121</td>\n",
       "      <td>NaN</td>\n",
       "    </tr>\n",
       "    <tr>\n",
       "      <th>mean</th>\n",
       "      <td>NaN</td>\n",
       "      <td>NaN</td>\n",
       "      <td>NaN</td>\n",
       "      <td>2011.095610</td>\n",
       "      <td>NaN</td>\n",
       "      <td>11.309795</td>\n",
       "      <td>NaN</td>\n",
       "      <td>1.010383e+05</td>\n",
       "    </tr>\n",
       "    <tr>\n",
       "      <th>std</th>\n",
       "      <td>NaN</td>\n",
       "      <td>NaN</td>\n",
       "      <td>NaN</td>\n",
       "      <td>4.823362</td>\n",
       "      <td>NaN</td>\n",
       "      <td>20.585915</td>\n",
       "      <td>NaN</td>\n",
       "      <td>1.150914e+05</td>\n",
       "    </tr>\n",
       "    <tr>\n",
       "      <th>min</th>\n",
       "      <td>NaN</td>\n",
       "      <td>NaN</td>\n",
       "      <td>NaN</td>\n",
       "      <td>1982.000000</td>\n",
       "      <td>NaN</td>\n",
       "      <td>0.420000</td>\n",
       "      <td>NaN</td>\n",
       "      <td>1.000000e+00</td>\n",
       "    </tr>\n",
       "    <tr>\n",
       "      <th>25%</th>\n",
       "      <td>NaN</td>\n",
       "      <td>NaN</td>\n",
       "      <td>NaN</td>\n",
       "      <td>2008.000000</td>\n",
       "      <td>NaN</td>\n",
       "      <td>3.600000</td>\n",
       "      <td>NaN</td>\n",
       "      <td>5.237850e+04</td>\n",
       "    </tr>\n",
       "    <tr>\n",
       "      <th>50%</th>\n",
       "      <td>NaN</td>\n",
       "      <td>NaN</td>\n",
       "      <td>NaN</td>\n",
       "      <td>2011.000000</td>\n",
       "      <td>NaN</td>\n",
       "      <td>5.700000</td>\n",
       "      <td>NaN</td>\n",
       "      <td>7.900000e+04</td>\n",
       "    </tr>\n",
       "    <tr>\n",
       "      <th>75%</th>\n",
       "      <td>NaN</td>\n",
       "      <td>NaN</td>\n",
       "      <td>NaN</td>\n",
       "      <td>2014.000000</td>\n",
       "      <td>NaN</td>\n",
       "      <td>12.000000</td>\n",
       "      <td>NaN</td>\n",
       "      <td>1.099392e+05</td>\n",
       "    </tr>\n",
       "    <tr>\n",
       "      <th>max</th>\n",
       "      <td>NaN</td>\n",
       "      <td>NaN</td>\n",
       "      <td>NaN</td>\n",
       "      <td>2022.000000</td>\n",
       "      <td>NaN</td>\n",
       "      <td>454.000000</td>\n",
       "      <td>NaN</td>\n",
       "      <td>1.785448e+06</td>\n",
       "    </tr>\n",
       "  </tbody>\n",
       "</table>\n",
       "</div>"
      ],
      "text/plain": [
       "       Location   Maker  Model         Year Colour  Amount (Million ₦)  \\\n",
       "count      4487    4487   4487  4487.000000   4487         4487.000000   \n",
       "unique        3      47    897          NaN     19                 NaN   \n",
       "top       Abuja  Toyota  Camry          NaN  Black                 NaN   \n",
       "freq       2083    1807    437          NaN   1276                 NaN   \n",
       "mean        NaN     NaN    NaN  2011.095610    NaN           11.309795   \n",
       "std         NaN     NaN    NaN     4.823362    NaN           20.585915   \n",
       "min         NaN     NaN    NaN  1982.000000    NaN            0.420000   \n",
       "25%         NaN     NaN    NaN  2008.000000    NaN            3.600000   \n",
       "50%         NaN     NaN    NaN  2011.000000    NaN            5.700000   \n",
       "75%         NaN     NaN    NaN  2014.000000    NaN           12.000000   \n",
       "max         NaN     NaN    NaN  2022.000000    NaN          454.000000   \n",
       "\n",
       "                Type   Distance_Km  \n",
       "count           4487  2.932000e+03  \n",
       "unique             3           NaN  \n",
       "top     Foreign Used           NaN  \n",
       "freq            3121           NaN  \n",
       "mean             NaN  1.010383e+05  \n",
       "std              NaN  1.150914e+05  \n",
       "min              NaN  1.000000e+00  \n",
       "25%              NaN  5.237850e+04  \n",
       "50%              NaN  7.900000e+04  \n",
       "75%              NaN  1.099392e+05  \n",
       "max              NaN  1.785448e+06  "
      ]
     },
     "execution_count": 5,
     "metadata": {},
     "output_type": "execute_result"
    }
   ],
   "source": [
    "df.describe(include = 'all')"
   ]
  },
  {
   "cell_type": "code",
   "execution_count": 6,
   "metadata": {},
   "outputs": [
    {
     "data": {
      "text/plain": [
       "Index(['Location', 'Maker', 'Model', 'Year', 'Colour', 'Amount (Million ₦)',\n",
       "       'Type', 'Distance_Km'],\n",
       "      dtype='object')"
      ]
     },
     "execution_count": 6,
     "metadata": {},
     "output_type": "execute_result"
    }
   ],
   "source": [
    "df.columns"
   ]
  },
  {
   "cell_type": "code",
   "execution_count": 7,
   "metadata": {},
   "outputs": [
    {
     "data": {
      "text/plain": [
       "Index(['Location', 'Maker', 'Model', 'Colour', 'Type'], dtype='object')"
      ]
     },
     "execution_count": 7,
     "metadata": {},
     "output_type": "execute_result"
    }
   ],
   "source": [
    "objects = df.select_dtypes(include = 'object')\n",
    "objects.columns"
   ]
  },
  {
   "cell_type": "code",
   "execution_count": 8,
   "metadata": {},
   "outputs": [
    {
     "name": "stdout",
     "output_type": "stream",
     "text": [
      "Location\n",
      "3\n",
      "['Abuja' 'Lagos' 'Ibadan']\n",
      "Maker\n",
      "47\n",
      "['Mercedes-Benz' 'Hyundai' 'Lexus' 'Toyota' 'Mazda' 'Honda' 'Land Rover'\n",
      " 'Porsche' 'Acura' 'Nissan' 'Pontiac' 'Ford' 'Jeep' 'Kia' 'Peugeot' 'BMW'\n",
      " 'Mitsubishi' 'Dodge' 'Chevrolet' 'Scion' 'Audi' 'Infiniti' 'Mini'\n",
      " 'Volkswagen' 'Suzuki' 'Chrysler' 'Volvo' 'Rolls-Royce' 'JAC' 'Subaru'\n",
      " 'Renault' 'GMC' 'Rover' 'IVM' 'Bentley' 'Opel' 'Lincoln' 'Hummer'\n",
      " 'Saturn' 'Cadillac' 'Lamborghini' 'Buick' 'Smart' 'Jaguar' 'Ferrari'\n",
      " 'Tata' 'Skoda']\n",
      "Model\n",
      "897\n",
      "['GLA 250' 'Accent' 'GX 460 Premium' 'ES 350' 'Verso 1.6' 'Corolla 1.8 LE'\n",
      " 'E350' 'GL-Class' 'RX 350 AWD' 'Land Cruiser 3.5 V6' 'Matrix'\n",
      " 'Land Cruiser' 'C350' 'Corolla' 'IS 250 4WD' 'Venza V6' 'CX-7' 'RX 350'\n",
      " 'Highlander Limited 4x4' 'RX' 'RX 350 F Sport AWD' 'Camry'\n",
      " 'Land Cruiser 5.7 V8 VX-S' 'GLK-Class' 'Avalon' 'GS 300' 'Accord'\n",
      " '4-Runner' 'Civic' 'ES 330 Sedan' 'Corolla LE (1.8L 4cyl 2A)' 'Santa Fe'\n",
      " 'Highlander' 'Elantra' '4-Runner Limited V6' 'Venza Limited FWD V6'\n",
      " 'M Class ML 350 4Matic' 'M Class' 'Hyundai Kona' 'C300'\n",
      " 'Camry XLE V6 FWD' 'Range Rover Velar' 'IS 250' 'Highlander Limited'\n",
      " 'RAV4 Limited FWD' 'Cayenne' 'RX 330' 'RDX' 'Corolla XSE (1.8L 4cyl 2A)'\n",
      " 'Micra' 'Vibe 2.4L' 'Tacoma TRD Sport' 'Focus 1.8 TDDi Viva' 'GX 460'\n",
      " 'RAV4 Limited V6 4x4' 'Commander Limited 4x4' 'Tundra' 'Sonata' 'RAV4'\n",
      " 'F-150' 'GX' 'GS 300 Automatic' 'Sienna' 'Altima' 'Hyundai Ioniq'\n",
      " 'Tacoma' 'CLA-Class' 'Venza V6 AWD' 'MDX SUV 4dr AWD (3.7 6cyl 5A)'\n",
      " 'Optima' 'Highlander V6 AWD' 'C250' 206 'GLK-Class 350 4MATIC'\n",
      " 'ES 350 FWD' 'LX 450d' 'F-150 SuperCab 4x4' 'Avensis' 'Equus' 'ES'\n",
      " 'Camry XSE (2.5L 4cyl 8A)' 'GLE-Class' 'CR-V' 'C43' 'Sienna LE 4WD'\n",
      " 'RX 300 4WD' 'Accord 2.4 EX' 'Highlander Sport' 'Venza AWD'\n",
      " 'Pilot EX-L 4x4 (3.5L 6cyl 5A)' 'Camry SE FWD (2.5L 4cyl 8AM)'\n",
      " '6 I Sport' 'Range Rover' 'RX 350 4WD' 'GX 460 Base' 'E550'\n",
      " 'Pilot EX 4x4 (3.5L 6cyl 5A)' '528i' 'Venza LE AWD V6' 'CR-V LX AWD'\n",
      " '5 Series' 'Morning' '328i' 'Edge SE 4dr FWD (3.5L 6cyl 6A)' 'GLA-Class'\n",
      " 'A-Class a 220 4MATIC' 'RX 350L Luxury FWD' 'Highlander Limited V6 4x4'\n",
      " 'Highlander Limited V6' 'Accord Sport 2.0T' 'Hilux'\n",
      " 'GX 470 Sport Utility' 508 'RX 330 AWD' '4-Runner Limited V6 4x4'\n",
      " 'LX 570 (5 Seats) AWD' 'Land Cruiser Prado 2.8' 'E55' 'Almera'\n",
      " 'Corolla S' 'Venza' 'Outlander XLS' 'Accord Sedan LX 3 V6 Automatic'\n",
      " 'Land Cruiser Prado 4 I' 'GL-Class GL 450' 307 'Sportage 2 2WD LX' 'Vibe'\n",
      " 'RAM' 'Titan Crew Cab SE 4x4' 'LX' 'X Class'\n",
      " 'Range Rover Evoque Pure Plus AWD' 'Camry XSE FWD (2.5L 4cyl 8AM)'\n",
      " 'Highlander Sport 4x4' 'Element LX Automatic' 'Genesis 5 RWD'\n",
      " 'RAV4 Limited V6' 'Odyssey' 'E300' 'LX 570 AWD' 'ES 330' 'Sequoia'\n",
      " 'Accord EX-L 2.0T' 'MDX' 'Aveo' 'RAV4 2.5 Sport 4x4' 'Explorer' 'iM Base'\n",
      " 'H300' 'Elantra Limited' 'SLK-Class' 'Highlander 4x4' 'Avalon Limited'\n",
      " 'X3' '307 2 CC' 'Tacoma TRD Off Road' 'ES 300'\n",
      " 'Civic 1.4i Sport Automatic' 'Escape' 'A4' '128i' 'Edge' 'C320'\n",
      " 'G-Class G 65 AMG 4MATIC' 'RX 330 AWD Off' 'RX 330 4WD'\n",
      " 'Corolla L 4-Speed Automatic' 'Land Cruiser Prado 2.7' 'Wrangler' '535i'\n",
      " 'Camaro' 'Quest 3.5' 'Challenger' 'IS' 'GS 350' 'LS'\n",
      " 'Land Cruiser 5.7 V8 VXR' 'RAV4 XLE FWD' 'Venza XLE AWD V6' 'GX 470'\n",
      " 'RAV4 2 4x4' 'Dyna' 'Corolla Verso 1.8' 'Corolla LE Eco (1.8L 4cyl 2A)'\n",
      " 'Avensis 2 D Verso' 'Tacoma 4x4 Double Cab'\n",
      " '4-Runner Sport Edition 4x4 V6' 'G-Class Base G 550 AWD'\n",
      " 'S-Class S 500 4MATIC L (V221)' 'Camry XLE FWD'\n",
      " 'Sienna LE AWD (3.3L V6 5A)' 'G-Class Base G 500 AWD' 'GX 460 Luxury'\n",
      " 'Land Cruiser Prado' 'CR-V 200i i-VTEC 4x4' 'A6 Avant 2.5 D'\n",
      " 'Tacoma Limited' '4-Runner Limited 4WD' 'C-Hr Limited FWD' 'NP300'\n",
      " 'LX 570' 'RAV4 Adventure AWD' 'G35' 'Camry 2.4 LE' 'GL-Class GL 550'\n",
      " 'RAV4 Sport V6 4x4' 'Solara 3.3 Coupe' 'Clubman Cooper' 'Yaris'\n",
      " 'RAV4 3.5 Limited 4x4' 'Passat 2 Sedan' 'GLK-Class 350'\n",
      " 'Highlander XLE AWD' 'RAV4 Limited' 'Corolla Verso 1.8 Luna' 'SX'\n",
      " 'Land Cruiser Prado 4' 'S-Class S 500 (W222)' 'Fusion SE AWD'\n",
      " 'RX 350L Luxury AWD' 'X5 xDrive40i AWD' 'E430' 'GS' 'Civic HF Sedan EX'\n",
      " 'Honda HR-V' 'GL Class' '300 300C RWD' 'Corolla LE'\n",
      " 'Range Rover Evoque Matt' 'Camry LE FWD (2.5L 4cyl 8AM)' 'GX 470 Off'\n",
      " 'G-Class' 'Hilux 2 VVT-i' 'Xterra SE' 'Trailrunner'\n",
      " 'Land Cruiser 4.5 V8 GXR' 'RX 300 2WD' 'C240' 'C400'\n",
      " 'RAV4 XLE Premium AWD' 'Hilux SR 4x4' '230E' 'CL' 'Almera Tino' 'Passat'\n",
      " 'S-Class Off' 'Range Rover Evoque' 'C-Class C 300 CDI 4MATIC (W204)'\n",
      " '4-Runner Limited 4x4 V6' 'Avalon XLS' 'Land Cruiser HDJ 100'\n",
      " 'Sharan 1.8 T' 'C70 Automatic' 'RX 450h' 'Veloster Automatic' 'GLS-Class'\n",
      " 'Ridgeline RTX' 'ZDX Base AWD' 'Pilot' 'Sienna CE AWD'\n",
      " 'Land Cruiser Prado 2.7 VVT-i' 'ES 250' 'Corolla Liftback'\n",
      " 'Tacoma Access Cab' 'Cooper Cabriolet' 'Sportage 2.0L Automatic'\n",
      " 'Edge SE 4dr AWD (3.5L 6cyl 6A) Off' 'Venza Limited AWD V6' 'CLS'\n",
      " 'Sentra 2 SL' 'B-Class' 'CR-V Touring AWD' 'X5 3.0i' 'Range Rover Vogue'\n",
      " 'Almera 1.6 Lux Automatic' 'Venza XLE AWD' 'Rolls-Royce Ghost Matt'\n",
      " 'S-Class S 550' 'Sienna XLE 7 Passenger' 'TL Automatic' 'Corolla SE'\n",
      " 'Altima 2.5' 'Sentra' 'X-Trail' 'Accord Sedan LX'\n",
      " 'Land Cruiser 5.7 V8 VX-S Matt' 'RAV4 2 VVT-i' '4-Runner Limited'\n",
      " 'G-Class G 63 AMG' 3008 'Range Rover Sport HSE 4x4 (5.0L 8cyl 6A)'\n",
      " 'RX 300' 'Hilux WORKMATE 4x4' 'Sharan' 'Genesis 3.8' 'TL SH-AWD'\n",
      " 'Rover Discovery' 'MDX 3.5L 4x4' 'MDX Tech & A-Spec Pkgs SH-AWD'\n",
      " 'RX 450hL Luxury AWD' 'Cruze' 'Sienna CE' 'Golf' '7 Series'\n",
      " 'Highlander Limited V6 FWD' 'LX 570 Three-Row' 'Aveo 1LT' 'SpaceWagon'\n",
      " 406 'GLC-Class' 'A4 3 TDI Automatic' 'JAC S2' 'Yaris 1.3 VVT-i'\n",
      " 'Corolla 1.4' 'Tiida' 'Highlander Limited 3.5l 4WD' 'Genesis 4.6'\n",
      " 'Corolla 1.8 VVTL-i TS' 'L200 Double Cab 2.5 180hp 4WD' 'Highlander V6'\n",
      " 'RX 350 FWD' 'Avalon 3' 'Carens' 'RAV4 2.2 D-4D GX' 'F-150 SuperCrew'\n",
      " 'Odyssey 2.4 4WD' 'RAV4 Sport' 'Elantra 1.6 GL' 'Ridgeline'\n",
      " 'Golf 2 GL 3-Door' 'Camry XSE V6 (3.5L V6 8A)' 'Sienna XLE'\n",
      " 'Accord 2 Comfort Automatic' 'Forester 2.5X Limited' '4-Runner Off'\n",
      " 'HS 250h' 'A6 2' 'JX 35' 'CR-V EX-L 4WD Automatic' 'Duster' 'Jetta'\n",
      " 'Highlander SE 3.5L 4WD' 'Sienna CE FWD (3.3L V6 5A)'\n",
      " 'Rolls-Royce Cullinan Base' 'Accord Sedan EX Automatic'\n",
      " 'CR-V 2.4 EX Automatic' 'Hilux 2.4 Diesel' 'RX 400h'\n",
      " 'M Class ML350 AWD 4MATIC' 'Sienna LE 7 Passenger' 'IS 350'\n",
      " 'Hilux 2.7 VVT-i 4X4 SRX' 'RC 350 AWD' 'C63' 'M Class ML 320'\n",
      " 'Freestar Wagon SE' 'M Class ML 350' 'IS 250 AWD'\n",
      " 'Solara 3.3 Convertible' 'Camry 2.4 SE Automatic' 'Land Cruiser 3.3 DT'\n",
      " 'RX 200t 2WD' 'Tacoma X Runner' 'CR-V EX Automatic' 'Elantra GLS'\n",
      " 'Acadia SLE AWD' 'Rio' '3 Series' 'Fortuner' 'RAV4 3.5 Sport 4x4'\n",
      " 'Mustang' 'IS 350 C' 'RAV4 3.5 Limited' 'Tacoma Access Cab V6 Automatic'\n",
      " 'RAV4 LE AWD' 'M Class ML 350 4x2' 'Tucson' 'GS 250'\n",
      " 'Corolla 1.4 D Automatic' 'Tacoma SR5' 'Sorento' 'Almera 1.6 Comfort'\n",
      " 'Grand Caravan' 'A3' 'Corolla SE (1.8L 4cyl 2A)'\n",
      " 'Highlander XLE 4x4 V6 (3.5L 6cyl 8A)' 'Corsa' 'S-Class' 'GL-Class 450'\n",
      " 'RAV4 LE AWD (2.5L 4cyl 6A)' 'Highlander Limited 3.5l 4WD Off'\n",
      " '407 2 Esplanade' 'RX 350L 4WD' 'Vibe 1.8L Off' 'X5' 'Fuga' 'RX 450H AWD'\n",
      " 'S Class S 63 AMG (W222)' 'EX 35' '75 2 Automatic' 407 'RAV4 XLE AWD'\n",
      " 'Prius' 'IS 200t' 'X6' 'Cooper' 'Quest S' 'Yaris 1.3' 'E63'\n",
      " 'Picnic 2 FWD' 'Camry SE FWD' 'Highlander SE' 'IVM 1021A'\n",
      " 'GL Class GL 450' 'C180' 'Vibe Automatic' 'Highlander 3.5L 4WD'\n",
      " 'Sienna XLE AWD (3.3L V6 5A)' 'Accord Sedan EX-L Automatic'\n",
      " 'Accord Coupe 3.5 EX-L Automatic' 'Montero 3.5 AWD' 'Forte EX'\n",
      " 'X4 xDrive28i Off' 'C200' 'Sienna SE 8 Passenger' 'CT' 'S Class'\n",
      " 'Highlander XLE FWD' 'IS 200 Limited' 'Challenger R/T Scat Pack RWD'\n",
      " 'Camry XSE FWD' 'Sienna LE & 1 Hatch' 'Accord Crosstour EX-L' 'Focus'\n",
      " 'Pathfinder LE RWD SUV (3.5L 6cyl 4A)' 'Camry 3.5 LE'\n",
      " 'Continental Mulliner R' 5008 'M Class ML 350 TEC 4Matic' 'RAV4 2.4'\n",
      " 'E320' '307 X-Line 1.6' 'Gx300' 'Cerato' 'Lite-Ace' '206 1.6 Automatic'\n",
      " 'Titan Crew Cab XE 4x4' 'Santa Fe 2.7 V6 4WD' 'QX'\n",
      " 'G-Class Base G 55 AMG 4x4' 'FJ Cruiser Base 4x4' 3\n",
      " 'Land Cruiser 4 V6 GXR' 'Zafira' 'Corolla 1.4 D-4d' 'Civic 1.8i VTEC'\n",
      " 'Corolla CE' '4-Runner SR5 4WD' 'C-Hr' 'Beetle' 626\n",
      " 'G-Class G 63 AMG 4MATIC' 'IS 250 AWD Automatic' 'Accord Sedan LX SE'\n",
      " 'Corolla 1.8 Exclusive Automatic' 'X5 3.0i Sport' 'Sienna XLE AWD'\n",
      " 'Traverse 1LT' 'Odyssey 2.4 2WD' 'MDX Base FWD' 'SL-Class'\n",
      " 'Tacoma Double Cab V6 4WD' 'Accord Automatic' 'Ranger XL' 'S40 a'\n",
      " 'Civic 1.8 DX' 'Qashqai' 'Cerato 1.6 LX Automatic'\n",
      " 'GX 470 Sport Utility Off' 'Bentley Continental' 'Sienna LE AWD'\n",
      " 'Sportage' 'Land Cruiser 5.7 V8 EXR' 'Highlander V6 4x4'\n",
      " 'Santa Fe Limited' 'Pathfinder' 'RX 350 XE 4x4' 'Honda Accord' 'Picanto'\n",
      " '6 Wagon' 'RX 350 4x4' 'A7' 'Accord Crosstour EX'\n",
      " 'Highlander Limited 3.5L 2WD' 'Tucson Limited AWD' 'Countryman S All4'\n",
      " 'MKS EcoBoost' 'Land Cruiser Prado 3 D-4d (190 Hp)' 'Maxima' 'tC Base'\n",
      " 'Pathfinder Automatic' 'Outlander' 'Rondo EX' 'Accord Sedan DX'\n",
      " 'M Class ML320 TEC AWD 4MATIC' datetime.datetime(2022, 5, 2, 0, 0) '550i'\n",
      " 'Camry XLE V6 (3.5L V6 8A)' 'Tucson GLS FWD' 'Jeep'\n",
      " 'Highlander XLE 4x2 V6 (3.5L 6cyl 8A)' 'xB Base' 'Accord Crosstour'\n",
      " 'Tacoma Double Cab V6 Automatic' 'CLA-Class Base CLA 250 FWD' '508 GT'\n",
      " 'IS 250 Automatic' 'E400' 'Highlander LE 4x4 V6 (3.5L 6cyl 8A)'\n",
      " 'IS 350 AWD' 'Soul Automatic' 'Xterra Automatic' 'Corolla Off'\n",
      " 'IS 250 SE' 'Sentra 2 CVT' 'Venza XLE FWD' 'Quest 3.5 SE'\n",
      " 'Range Rover Sport' 'RAV4 XLE AWD (2.5L 4cyl 6A)' 'Pick-Up'\n",
      " 'Tacoma Cab 4WD' 'Civic LX Sedan' 'Sentra SL' 'C230' 'R-Class'\n",
      " 'Avalon XLS W/ Bucket Seats' 'A-Class' 'IS 250 SE AWD'\n",
      " 'H2 SUV Sport Utility' 'Sorento 3.3L SXL FWD' 200 'Baja Automatic' 'I8'\n",
      " 'M Class ML 550 4Matic' 'Camry Automatic' 'Camry XLE FWD (2.5L 4cyl 8AM)'\n",
      " 'M Class Edition 10 ML 350 4Matic' 'Civic EX-L W/Navi Hatchback'\n",
      " 'Attrage' 'FX35 Base 4x2 (3.5L 6cyl 5A)' 'ES 350 F Sport FWD' 'H1'\n",
      " 'Land Cruiser 4.6 V8 GXR' 'Vue' '4-Runner Limited 4x4' 'GLE-Class Matt'\n",
      " 'CR-V EX-L FWD' 'Cadillac Escalade' 'Highlander LE 4x2 (2.7L 4cyl 6A)'\n",
      " 'RDX Base SH-AWD' 'Highlander Limited V6 AWD' 'Golf GTI'\n",
      " 'Challenger R/T CLASSIC' '206 GTi 180' 'Cooper S' 'CR-V 2 Automatic'\n",
      " 'Elantra 1.6 Automatic' 'Hyundai Sonata SEL Plus' 'GLK-Class 350 SUV'\n",
      " 'Accord Coupe 3.5 EX-L V6' 'MDX Base SH-AWD' 'Lamborghini Urus'\n",
      " 'CX-9 Sport' 'Micra Visia 1.2' 'Mustang V6 Premium' 'RAV4 V6'\n",
      " 'Land Cruiser Prado 3.4 5dr' 'F-150 SuperCab' 'Primera' 'Rogue' 'A8'\n",
      " 'Avalon XSE' 'Pilot EX 4dr SUV (3.5L 6cyl 5A)' 'Sienna LE'\n",
      " 'MDX Touring Package' 'CR-V 2 RVi' 'Corolla 140i GLE F-Lift'\n",
      " 'CR-V 2.4 EX-L Automatic' 'Vibe AWD' 'L400' 'M6 Coupe' 'Venza LE AWD'\n",
      " 'RAV4 2.5 Limited 4x4' 'LS 460 Luxury Sedan' 'QX56' 'M3 Coupe'\n",
      " 'Sienna XLE FWD' 'GLS-Class GLS450 4MATIC' 'Murano' '3 1.6i' '330i'\n",
      " 'Camry Hybrid' 'Pathfinder Platinum 4x4' 'Yaris 1.8 TS' 'Ranger'\n",
      " 'Escape XLS 4WD Automatic' 'Q30' 'Avensis 2 Advanced' '406 2.2 Coupe'\n",
      " 'Highlander XLE V6 4x2 (3.5L 6cyl 6A)' 'Sienna LE 7 Passenger Mobility'\n",
      " 'RAV4 Base AWD' 'Corolla 1.6 VVT-i' 'Hyundai Creta' 'Rover Lr3'\n",
      " '4-Runner Sport Edition' 'X3 3.0i' 'Tundra 4x4 SR5 Access Cab'\n",
      " 'A6 2.0T Premium FWD' 'RAV4 2 Automatic' 'RAV4 2.5 Limited'\n",
      " 'Enclave CXL AWD' 'Hilux 2 VVTi SRX'\n",
      " 'Land Cruiser Prado 3 D-4d (190 Hp) 7 Seats' 'RX 450H 4WD'\n",
      " 'CTS Automatic' 'Venza LE FWD' 'Range Rover Sport SE' 'Picnic'\n",
      " 'Sienna XLE Limited 4WD' 'Xterra' 'Legend 3.7 V6' 'Kia Rio'\n",
      " 'Edge SE 4dr AWD (3.5L 6cyl 6A)' 'Frontier SVE V6 King Cab 4WD'\n",
      " 'S-Class S 63 AMG 4MATIC (W222)' 'Navigator Luxury' 'Corolla 1.8 TS'\n",
      " '406 2' 'RX 350 F Sport AWD Off' 'Accord 3.5 EX-L Automatic'\n",
      " 'A-Class A 220 4MATIC' 'Sonata 2.4 GL' 'Golf 1.4' 'Accord 2.4 Executive'\n",
      " 'Cooper Clubman Classic' 'HiAce' 'Mustang EcoBoost Fastback' 'C450'\n",
      " 'LS 460 L RWD' 'Accord Sedan EX-L' 'Tribute s Grand Touring' 'RAV4 1.8'\n",
      " 'A8 4.2 Quattro' 'Avalon XLE' 'XC90 T6 AWD' 'NX 200t AWD'\n",
      " 'X-Trail SV Premium' 'X6 xDrive35i AWD' 'Noah 2 FWD (8 Seater)'\n",
      " 'RAV4 Sport 4x4' 'GS 450h' 'Ix35' 'Range Rover Sport HST MHEV 4x4'\n",
      " 'Tacoma 4dr Double Cab' 'Focus 2.5 ST' 'S-Class S 450 4MATIC (W222)'\n",
      " 'Land Cruiser 4.5 V8 VXR' 'S60' 'RAV4 2.5 4x4'\n",
      " 'Highlander Hybrid Limited' 'Highlander LE Plus' 'Odyssey EX-L'\n",
      " 'Corolla Sedan' '318i' 'Range Rover Sport 4.2 V8 SC' 'Vibe 1.8L'\n",
      " 'Tucson GLS AWD' 'RX 350 4x4 Matt' 'Clubman' 'E500 500 Sedan' 'ForTwo 1'\n",
      " 'Accord Crosstour EX-L W/Navigation AWD' 'XF 2.7'\n",
      " 'Land Cruiser 100 4.2 TD' 'Accord 2.4 EX Automatic' 'F-150 XLT'\n",
      " 'RX 350 F Sport FWD' '6 Series' 'NX' 'CR-V EX AWD' 'Vibe 1.8 AWD' '540i'\n",
      " 'Highlander V6 FWD' 'Accord 2.2 DTEC Estate' 'Countryman S'\n",
      " 'Land Cruiser J300 4' 300 'CLC' 'S-Class S 500 4MATIC L (V222)'\n",
      " 'Enclave CX AWD' 'Tribute 3.0s 4WD Automatic' 'S-Class S 63 AMG (W222)'\n",
      " 'Premacy' 'Rogue SL' 'FF' '320i' 'Traverse LTZ'\n",
      " 'L200 Double Cab 2.4 181hp 4WD' 'Tacoma PreRunner Access Cab'\n",
      " 'Phantom Coupe' '335i' 'ES 330 Off' 'Accord 2 Comfort' 'Urus'\n",
      " 'RAV4 2 4x4 VX Automatic' 'Camry LE (2.5L 4cyl 8A)' 'Frontier King Cab'\n",
      " 'Routan SEL' 'Land Cruiser Prado 3 TD' 'Terrain SLT-2 AWD'\n",
      " 'RAV4 3.5 Sport' 'Sentra 2' 'LX 570 Base' 'Highlander Hybrid 4x4'\n",
      " 'GLS-Class GLS550 4Matic' 'TL SH-AWD Automatic' '240SX' 'Land'\n",
      " 'Venza Off' 'Accord 2.4 Type S Automatic' 'Frontier' 'RC' 'Infiniti QX80'\n",
      " 'Accord 2.4 i-VTEC Exec Automatic' 'GS 350 4WD Matt' 'Fusion'\n",
      " 'RAV4 SE AWD (2.5L 4cyl 6A)' 'L200 Single Cab 2.5 TD 4WD' '300C SRT8 RWD'\n",
      " 'X5 xDrive50i AWD' 'Cayenne GTS' 'A6 3.2 FSI Quattro Automatic'\n",
      " 'Corolla L (1.8L 4cyl 2A)' 'LX 570 (5 seats) AWD' 'Traverse'\n",
      " 'Acadia SLE-1 AWD' 'Lincoln Navigator' 'S Class S 450 L (V222)'\n",
      " 'Torrent Base AWD' 'Corona' 'F-650' 'Sienna CE FWD'\n",
      " 'Accord Coupe 2.4ex-L Automatic' 'Escalade Off'\n",
      " 'Range Rover Velar P250 SE R-Dynamic 4x4' 'RAV4 LE FWD (2.5L 4cyl 6A)'\n",
      " 'TSX Automatic' 'Cooper John Cooper Works' 'Previa' 'Accord 2.4'\n",
      " 'Land Cruiser 5.7 V8 GXR' 'Creta' 'ILX' 'GLS-Class GLS450 4Matic'\n",
      " 'Camry 2.4 SE' 'Sienna XLE 7 Passenger Mobility' 'Corolla 1.8'\n",
      " 'CX-9 Grand Touring AWD' 'CR-V 2.0i LS Automatic' 'Serena'\n",
      " 'Accord 2 I-Vtec' 'Beetle 1.8 T' 'Sumo Victa Turbo DI' 'Avensis Sedan'\n",
      " 'Land Cruiser Prado 3 190hp' 'Tribute' 'Hilux 2.5 D-4d 4X4 SRX'\n",
      " 'Caliber 2.4 R/T' 'CLK' 'Highlander SE 4x4 V6 (3.5L 6cyl 8A)'\n",
      " '3 2.5 S Grand Touring Sedan' 'Ridgeline RTL'\n",
      " 'Range Rover Velar P380 HSE R-Dynamic 4x4' 'F-150 SuperCrew 4x4'\n",
      " 'Hyundai Palisade' 'Civic LX Hatchback' 'Camry SE (2.5L 4cyl 8A)' 'Sunny'\n",
      " 'Beetle 2.5' 'ES 350 Luxury FWD' 'Sienna XLE Limited'\n",
      " 'Accord 3.5 EX Automatic' 'Forte SX Hatchback' 'Express Cargo Van 1500'\n",
      " 'Explorer Sport Track Automatic' 'Hilux SR5+ 4x4'\n",
      " 'FJ Cruiser 4x4 Automatic' 'Sorento EX 4dr SUV (3.3L 6cyl 6A)' 1117\n",
      " 'Santa Fe Sport 2.0T Off' 'Outlander 2.4' 'Avanza'\n",
      " 'GLS-Class GLS63 AMG Base' 'M Class ML350 4x2' 'X5 3.0si Activity'\n",
      " 'Tacoma Double Cab V6' 'Escalade' 'Corolla 1.8 CE'\n",
      " 'Sienna XLE 7-Passenger AWD' '4-Runner Limited 2WD' 'C280' 'E-350'\n",
      " 'GL Class GL 550' 'Peugeot 5008 2 HDi 180 GT' 'Nissan Armada' 'M6' 'TL'\n",
      " 'C-HR' 'Accord Coupe EX-L' 'Range Rover Evoque HSE Dynamic 4x4 5-Door'\n",
      " 'RAV4 Automatic' 'CX-9 Grand Touring' 'Charger' 'Camry Off'\n",
      " '407 2 HDi ST Comfort' 'Versa 1.8 SL Hatchback' 'Land Cruiser Matt'\n",
      " 'Yaris Sedan' 'Camry 2.4 WT-i' '323i' 'Galaxy' '407 SW 3 V6 ST Sport'\n",
      " 'Frontier Crew Cab SE' 'Rush 1.5 RWD' 'Range Rover Sport Autobiography'\n",
      " 'CR-V EX 4dr SUV (2.4L 4cyl 5A)' '4-Runner Sport Edition 4x4 V8'\n",
      " 'Camry 2.4 XLE' 'Vibe 2.4 4WD' 'Altima Sedan 3.5 S'\n",
      " 'Camry 2.4 XLi Automatic' 'i8 1.5 Roadster' 'Highlander XLE' 'A5'\n",
      " 'Sienna LE FWD' 'ES 350 Luxury' 'RX 350L AWD' 'ES 350 Off' '206 1.4 D'\n",
      " 'RX 350 F SPORT AWD' 'CTS' 'RAV4 Limited AWD' '4-Runner Limited 4X4'\n",
      " 'Elantra Touring SE Automatic' 'TSX Sport Sedan' 'Passat 2' 'GLE43'\n",
      " '406 Break 1.8i' 'Pathfinder 4' 'Solara' 'CC' 'Charger RT'\n",
      " 'S-Class S 500 (W220)' 'Sorento EX'\n",
      " 'Highlander XLE V6 4x4 (3.5L 6cyl 6A)' 'Highlander Base FWD' 'Passat SE'\n",
      " 'IS 300 AWD' 'RX 350 2WD' 'Dart' 'Granvia' 'Fabia' 'Veloster' 'L200'\n",
      " 'Sienna 7 Passenger' 'A4 4.2' 220 'Highlander SE 3.5L 2WD' 'X5 4.8is'\n",
      " 'Pathfinder 4 V6 Automatic' 'C-Class C 300 (W204)' 'Malibu LS'\n",
      " 'C-HR Limited FWD' 'XC90' 'Frontier Automatic'\n",
      " 'Range Rover Velar P380 S 4x4' 'Santa Fe SE' 'Tucson Limited FWD'\n",
      " 'X5 4.8i Sports Activity' 'Elantra 2' 'F-150 Super Cab 4x4' 'Navigator'\n",
      " 'CX-9' 'CR-V LX 4WD Automatic' 'Outback']\n",
      "Colour\n",
      "19\n",
      "['Brown' 'Red' 'White' 'Gray' 'Silver' 'Black' 'Blue' 'Gold' 'Green'\n",
      " 'Beige' 'Purple' 'Orange' 'Burgandy' 'Ivory' 'Pink' 'Pearl' 'Yellow'\n",
      " 'Luury' 'Teal']\n",
      "Type\n",
      "3\n",
      "['Foreign Used' 'Nigerian Used' 'Brand New']\n"
     ]
    }
   ],
   "source": [
    "for col in objects.columns:\n",
    "    print(col)\n",
    "    print(df[col].nunique())\n",
    "    print(df[col].unique())"
   ]
  },
  {
   "cell_type": "code",
   "execution_count": 9,
   "metadata": {},
   "outputs": [],
   "source": [
    "df['Age'] = datetime.date.today().year - df['Year']"
   ]
  },
  {
   "cell_type": "code",
   "execution_count": 10,
   "metadata": {},
   "outputs": [
    {
     "data": {
      "text/html": [
       "<div>\n",
       "<style scoped>\n",
       "    .dataframe tbody tr th:only-of-type {\n",
       "        vertical-align: middle;\n",
       "    }\n",
       "\n",
       "    .dataframe tbody tr th {\n",
       "        vertical-align: top;\n",
       "    }\n",
       "\n",
       "    .dataframe thead th {\n",
       "        text-align: right;\n",
       "    }\n",
       "</style>\n",
       "<table border=\"1\" class=\"dataframe\">\n",
       "  <thead>\n",
       "    <tr style=\"text-align: right;\">\n",
       "      <th></th>\n",
       "      <th>Location</th>\n",
       "      <th>Maker</th>\n",
       "      <th>Model</th>\n",
       "      <th>Year</th>\n",
       "      <th>Colour</th>\n",
       "      <th>Amount (Million ₦)</th>\n",
       "      <th>Type</th>\n",
       "      <th>Distance_Km</th>\n",
       "      <th>Age</th>\n",
       "    </tr>\n",
       "  </thead>\n",
       "  <tbody>\n",
       "    <tr>\n",
       "      <th>0</th>\n",
       "      <td>Abuja</td>\n",
       "      <td>Mercedes-Benz</td>\n",
       "      <td>GLA 250</td>\n",
       "      <td>2015</td>\n",
       "      <td>Brown</td>\n",
       "      <td>14.50</td>\n",
       "      <td>Foreign Used</td>\n",
       "      <td>50000.0</td>\n",
       "      <td>7</td>\n",
       "    </tr>\n",
       "    <tr>\n",
       "      <th>1</th>\n",
       "      <td>Abuja</td>\n",
       "      <td>Hyundai</td>\n",
       "      <td>Accent</td>\n",
       "      <td>2013</td>\n",
       "      <td>Red</td>\n",
       "      <td>1.55</td>\n",
       "      <td>Nigerian Used</td>\n",
       "      <td>NaN</td>\n",
       "      <td>9</td>\n",
       "    </tr>\n",
       "    <tr>\n",
       "      <th>2</th>\n",
       "      <td>Lagos</td>\n",
       "      <td>Lexus</td>\n",
       "      <td>GX 460 Premium</td>\n",
       "      <td>2011</td>\n",
       "      <td>White</td>\n",
       "      <td>14.00</td>\n",
       "      <td>Foreign Used</td>\n",
       "      <td>85000.0</td>\n",
       "      <td>11</td>\n",
       "    </tr>\n",
       "    <tr>\n",
       "      <th>3</th>\n",
       "      <td>Lagos</td>\n",
       "      <td>Lexus</td>\n",
       "      <td>ES 350</td>\n",
       "      <td>2011</td>\n",
       "      <td>Gray</td>\n",
       "      <td>4.95</td>\n",
       "      <td>Foreign Used</td>\n",
       "      <td>NaN</td>\n",
       "      <td>11</td>\n",
       "    </tr>\n",
       "    <tr>\n",
       "      <th>4</th>\n",
       "      <td>Ibadan</td>\n",
       "      <td>Toyota</td>\n",
       "      <td>Verso 1.6</td>\n",
       "      <td>2009</td>\n",
       "      <td>Silver</td>\n",
       "      <td>1.69</td>\n",
       "      <td>Nigerian Used</td>\n",
       "      <td>118906.0</td>\n",
       "      <td>13</td>\n",
       "    </tr>\n",
       "  </tbody>\n",
       "</table>\n",
       "</div>"
      ],
      "text/plain": [
       "  Location          Maker           Model  Year  Colour  Amount (Million ₦)  \\\n",
       "0    Abuja  Mercedes-Benz         GLA 250  2015   Brown               14.50   \n",
       "1    Abuja        Hyundai          Accent  2013     Red                1.55   \n",
       "2    Lagos          Lexus  GX 460 Premium  2011   White               14.00   \n",
       "3    Lagos          Lexus          ES 350  2011    Gray                4.95   \n",
       "4   Ibadan         Toyota       Verso 1.6  2009  Silver                1.69   \n",
       "\n",
       "            Type  Distance_Km  Age  \n",
       "0   Foreign Used      50000.0    7  \n",
       "1  Nigerian Used          NaN    9  \n",
       "2   Foreign Used      85000.0   11  \n",
       "3   Foreign Used          NaN   11  \n",
       "4  Nigerian Used     118906.0   13  "
      ]
     },
     "execution_count": 10,
     "metadata": {},
     "output_type": "execute_result"
    }
   ],
   "source": [
    "df.head()"
   ]
  },
  {
   "cell_type": "code",
   "execution_count": 11,
   "metadata": {},
   "outputs": [
    {
     "data": {
      "text/html": [
       "<div>\n",
       "<style scoped>\n",
       "    .dataframe tbody tr th:only-of-type {\n",
       "        vertical-align: middle;\n",
       "    }\n",
       "\n",
       "    .dataframe tbody tr th {\n",
       "        vertical-align: top;\n",
       "    }\n",
       "\n",
       "    .dataframe thead th {\n",
       "        text-align: right;\n",
       "    }\n",
       "</style>\n",
       "<table border=\"1\" class=\"dataframe\">\n",
       "  <thead>\n",
       "    <tr style=\"text-align: right;\">\n",
       "      <th></th>\n",
       "      <th>Location</th>\n",
       "      <th>Maker</th>\n",
       "      <th>Year</th>\n",
       "      <th>Colour</th>\n",
       "      <th>Amount (Million ₦)</th>\n",
       "      <th>Type</th>\n",
       "      <th>Distance_Km</th>\n",
       "      <th>Age</th>\n",
       "    </tr>\n",
       "  </thead>\n",
       "  <tbody>\n",
       "    <tr>\n",
       "      <th>0</th>\n",
       "      <td>Abuja</td>\n",
       "      <td>Mercedes-Benz</td>\n",
       "      <td>2015</td>\n",
       "      <td>Brown</td>\n",
       "      <td>14.50</td>\n",
       "      <td>Foreign Used</td>\n",
       "      <td>50000.0</td>\n",
       "      <td>7</td>\n",
       "    </tr>\n",
       "    <tr>\n",
       "      <th>1</th>\n",
       "      <td>Abuja</td>\n",
       "      <td>Hyundai</td>\n",
       "      <td>2013</td>\n",
       "      <td>Red</td>\n",
       "      <td>1.55</td>\n",
       "      <td>Nigerian Used</td>\n",
       "      <td>NaN</td>\n",
       "      <td>9</td>\n",
       "    </tr>\n",
       "    <tr>\n",
       "      <th>2</th>\n",
       "      <td>Lagos</td>\n",
       "      <td>Lexus</td>\n",
       "      <td>2011</td>\n",
       "      <td>White</td>\n",
       "      <td>14.00</td>\n",
       "      <td>Foreign Used</td>\n",
       "      <td>85000.0</td>\n",
       "      <td>11</td>\n",
       "    </tr>\n",
       "    <tr>\n",
       "      <th>3</th>\n",
       "      <td>Lagos</td>\n",
       "      <td>Lexus</td>\n",
       "      <td>2011</td>\n",
       "      <td>Gray</td>\n",
       "      <td>4.95</td>\n",
       "      <td>Foreign Used</td>\n",
       "      <td>NaN</td>\n",
       "      <td>11</td>\n",
       "    </tr>\n",
       "    <tr>\n",
       "      <th>4</th>\n",
       "      <td>Ibadan</td>\n",
       "      <td>Toyota</td>\n",
       "      <td>2009</td>\n",
       "      <td>Silver</td>\n",
       "      <td>1.69</td>\n",
       "      <td>Nigerian Used</td>\n",
       "      <td>118906.0</td>\n",
       "      <td>13</td>\n",
       "    </tr>\n",
       "  </tbody>\n",
       "</table>\n",
       "</div>"
      ],
      "text/plain": [
       "  Location          Maker  Year  Colour  Amount (Million ₦)           Type  \\\n",
       "0    Abuja  Mercedes-Benz  2015   Brown               14.50   Foreign Used   \n",
       "1    Abuja        Hyundai  2013     Red                1.55  Nigerian Used   \n",
       "2    Lagos          Lexus  2011   White               14.00   Foreign Used   \n",
       "3    Lagos          Lexus  2011    Gray                4.95   Foreign Used   \n",
       "4   Ibadan         Toyota  2009  Silver                1.69  Nigerian Used   \n",
       "\n",
       "   Distance_Km  Age  \n",
       "0      50000.0    7  \n",
       "1          NaN    9  \n",
       "2      85000.0   11  \n",
       "3          NaN   11  \n",
       "4     118906.0   13  "
      ]
     },
     "execution_count": 11,
     "metadata": {},
     "output_type": "execute_result"
    }
   ],
   "source": [
    "df.drop(['Model'], axis = 1, inplace = True)\n",
    "df.head()"
   ]
  },
  {
   "cell_type": "code",
   "execution_count": 12,
   "metadata": {},
   "outputs": [
    {
     "data": {
      "image/png": "[encoded data removed]",
      "text/plain": [
       "<Figure size 720x1080 with 1 Axes>"
      ]
     },
     "metadata": {
      "needs_background": "light"
     },
     "output_type": "display_data"
    }
   ],
   "source": [
    "plt.figure(figsize = (10, 15))\n",
    "color = sns.color_palette()[0]\n",
    "order = df['Year'].value_counts().index\n",
    "sns.countplot(y = 'Year', data = df, color = color, order = order)\n",
    "plt.title('Total cars by year')\n",
    "plt.ylabel('Number of cars')\n",
    "\n",
    "plt.show()"
   ]
  },
  {
   "cell_type": "code",
   "execution_count": 13,
   "metadata": {},
   "outputs": [
    {
     "data": {
      "image/png": "[encoded data removed]",
      "text/plain": [
       "<Figure size 720x1080 with 1 Axes>"
      ]
     },
     "metadata": {
      "needs_background": "light"
     },
     "output_type": "display_data"
    }
   ],
   "source": [
    "plt.figure(figsize = (10, 15))\n",
    "order = df['Type'].value_counts().index\n",
    "sns.countplot(x = 'Type', data = df, color = color, order = order)\n",
    "plt.title('Total cars by type')\n",
    "plt.ylabel('Number of cars')\n",
    "\n",
    "plt.show()"
   ]
  },
  {
   "cell_type": "code",
   "execution_count": 14,
   "metadata": {},
   "outputs": [
    {
     "data": {
      "image/png": "[encoded data removed]",
      "text/plain": [
       "<Figure size 720x1080 with 1 Axes>"
      ]
     },
     "metadata": {
      "needs_background": "light"
     },
     "output_type": "display_data"
    }
   ],
   "source": [
    "plt.figure(figsize = (10, 15))\n",
    "order = df['Location'].value_counts().index\n",
    "sns.countplot(x = 'Location', data = df, color = color, order = order)\n",
    "plt.title('Total cars by location')\n",
    "plt.ylabel('Number of cars')\n",
    "\n",
    "plt.show()"
   ]
  },
  {
   "cell_type": "code",
   "execution_count": 15,
   "metadata": {},
   "outputs": [
    {
     "data": {
      "image/png": "[encoded data removed]",
      "text/plain": [
       "<Figure size 720x1080 with 1 Axes>"
      ]
     },
     "metadata": {
      "needs_background": "light"
     },
     "output_type": "display_data"
    }
   ],
   "source": [
    "plt.figure(figsize = (10, 15))\n",
    "order = df['Colour'].value_counts().index\n",
    "sns.countplot(y = 'Colour', data = df, color = color, order = order)\n",
    "plt.title('Total cars by colour')\n",
    "plt.xlabel('Number of cars')\n",
    "\n",
    "plt.show()"
   ]
  },
  {
   "cell_type": "code",
   "execution_count": 16,
   "metadata": {},
   "outputs": [
    {
     "data": {
      "text/plain": [
       "Index(['Location', 'Maker', 'Colour', 'Type'], dtype='object')"
      ]
     },
     "execution_count": 16,
     "metadata": {},
     "output_type": "execute_result"
    }
   ],
   "source": [
    "objects = df.select_dtypes(include = 'object')\n",
    "objects.columns"
   ]
  },
  {
   "cell_type": "code",
   "execution_count": 17,
   "metadata": {},
   "outputs": [
    {
     "data": {
      "text/html": [
       "<div>\n",
       "<style scoped>\n",
       "    .dataframe tbody tr th:only-of-type {\n",
       "        vertical-align: middle;\n",
       "    }\n",
       "\n",
       "    .dataframe tbody tr th {\n",
       "        vertical-align: top;\n",
       "    }\n",
       "\n",
       "    .dataframe thead th {\n",
       "        text-align: right;\n",
       "    }\n",
       "</style>\n",
       "<table border=\"1\" class=\"dataframe\">\n",
       "  <thead>\n",
       "    <tr style=\"text-align: right;\">\n",
       "      <th></th>\n",
       "      <th>Location</th>\n",
       "      <th>Maker</th>\n",
       "      <th>Year</th>\n",
       "      <th>Colour</th>\n",
       "      <th>Amount (Million ₦)</th>\n",
       "      <th>Type</th>\n",
       "      <th>Distance_Km</th>\n",
       "      <th>Age</th>\n",
       "    </tr>\n",
       "  </thead>\n",
       "  <tbody>\n",
       "    <tr>\n",
       "      <th>0</th>\n",
       "      <td>0</td>\n",
       "      <td>26</td>\n",
       "      <td>2015</td>\n",
       "      <td>3</td>\n",
       "      <td>14.50</td>\n",
       "      <td>1</td>\n",
       "      <td>50000.0</td>\n",
       "      <td>7</td>\n",
       "    </tr>\n",
       "    <tr>\n",
       "      <th>1</th>\n",
       "      <td>0</td>\n",
       "      <td>14</td>\n",
       "      <td>2013</td>\n",
       "      <td>14</td>\n",
       "      <td>1.55</td>\n",
       "      <td>2</td>\n",
       "      <td>NaN</td>\n",
       "      <td>9</td>\n",
       "    </tr>\n",
       "    <tr>\n",
       "      <th>2</th>\n",
       "      <td>2</td>\n",
       "      <td>23</td>\n",
       "      <td>2011</td>\n",
       "      <td>17</td>\n",
       "      <td>14.00</td>\n",
       "      <td>1</td>\n",
       "      <td>85000.0</td>\n",
       "      <td>11</td>\n",
       "    </tr>\n",
       "    <tr>\n",
       "      <th>3</th>\n",
       "      <td>2</td>\n",
       "      <td>23</td>\n",
       "      <td>2011</td>\n",
       "      <td>6</td>\n",
       "      <td>4.95</td>\n",
       "      <td>1</td>\n",
       "      <td>NaN</td>\n",
       "      <td>11</td>\n",
       "    </tr>\n",
       "    <tr>\n",
       "      <th>4</th>\n",
       "      <td>1</td>\n",
       "      <td>44</td>\n",
       "      <td>2009</td>\n",
       "      <td>15</td>\n",
       "      <td>1.69</td>\n",
       "      <td>2</td>\n",
       "      <td>118906.0</td>\n",
       "      <td>13</td>\n",
       "    </tr>\n",
       "  </tbody>\n",
       "</table>\n",
       "</div>"
      ],
      "text/plain": [
       "   Location  Maker  Year  Colour  Amount (Million ₦)  Type  Distance_Km  Age\n",
       "0         0     26  2015       3               14.50     1      50000.0    7\n",
       "1         0     14  2013      14                1.55     2          NaN    9\n",
       "2         2     23  2011      17               14.00     1      85000.0   11\n",
       "3         2     23  2011       6                4.95     1          NaN   11\n",
       "4         1     44  2009      15                1.69     2     118906.0   13"
      ]
     },
     "execution_count": 17,
     "metadata": {},
     "output_type": "execute_result"
    }
   ],
   "source": [
    "for col in objects:\n",
    "  le = LabelEncoder()\n",
    "  df[col] = le.fit_transform(df[col])\n",
    "\n",
    "df.head()"
   ]
  },
  {
   "cell_type": "code",
   "execution_count": 18,
   "metadata": {},
   "outputs": [
    {
     "data": {
      "text/html": [
       "<div>\n",
       "<style scoped>\n",
       "    .dataframe tbody tr th:only-of-type {\n",
       "        vertical-align: middle;\n",
       "    }\n",
       "\n",
       "    .dataframe tbody tr th {\n",
       "        vertical-align: top;\n",
       "    }\n",
       "\n",
       "    .dataframe thead th {\n",
       "        text-align: right;\n",
       "    }\n",
       "</style>\n",
       "<table border=\"1\" class=\"dataframe\">\n",
       "  <thead>\n",
       "    <tr style=\"text-align: right;\">\n",
       "      <th></th>\n",
       "      <th>Location</th>\n",
       "      <th>Maker</th>\n",
       "      <th>Colour</th>\n",
       "      <th>Amount (Million ₦)</th>\n",
       "      <th>Type</th>\n",
       "      <th>Distance_Km</th>\n",
       "      <th>Age</th>\n",
       "    </tr>\n",
       "  </thead>\n",
       "  <tbody>\n",
       "    <tr>\n",
       "      <th>0</th>\n",
       "      <td>0</td>\n",
       "      <td>26</td>\n",
       "      <td>3</td>\n",
       "      <td>14.50</td>\n",
       "      <td>1</td>\n",
       "      <td>50000.0</td>\n",
       "      <td>7</td>\n",
       "    </tr>\n",
       "    <tr>\n",
       "      <th>1</th>\n",
       "      <td>0</td>\n",
       "      <td>14</td>\n",
       "      <td>14</td>\n",
       "      <td>1.55</td>\n",
       "      <td>2</td>\n",
       "      <td>NaN</td>\n",
       "      <td>9</td>\n",
       "    </tr>\n",
       "    <tr>\n",
       "      <th>2</th>\n",
       "      <td>2</td>\n",
       "      <td>23</td>\n",
       "      <td>17</td>\n",
       "      <td>14.00</td>\n",
       "      <td>1</td>\n",
       "      <td>85000.0</td>\n",
       "      <td>11</td>\n",
       "    </tr>\n",
       "    <tr>\n",
       "      <th>3</th>\n",
       "      <td>2</td>\n",
       "      <td>23</td>\n",
       "      <td>6</td>\n",
       "      <td>4.95</td>\n",
       "      <td>1</td>\n",
       "      <td>NaN</td>\n",
       "      <td>11</td>\n",
       "    </tr>\n",
       "    <tr>\n",
       "      <th>4</th>\n",
       "      <td>1</td>\n",
       "      <td>44</td>\n",
       "      <td>15</td>\n",
       "      <td>1.69</td>\n",
       "      <td>2</td>\n",
       "      <td>118906.0</td>\n",
       "      <td>13</td>\n",
       "    </tr>\n",
       "  </tbody>\n",
       "</table>\n",
       "</div>"
      ],
      "text/plain": [
       "   Location  Maker  Colour  Amount (Million ₦)  Type  Distance_Km  Age\n",
       "0         0     26       3               14.50     1      50000.0    7\n",
       "1         0     14      14                1.55     2          NaN    9\n",
       "2         2     23      17               14.00     1      85000.0   11\n",
       "3         2     23       6                4.95     1          NaN   11\n",
       "4         1     44      15                1.69     2     118906.0   13"
      ]
     },
     "execution_count": 18,
     "metadata": {},
     "output_type": "execute_result"
    }
   ],
   "source": [
    "df.drop(['Year'], axis = 1, inplace = True)\n",
    "df.head()"
   ]
  },
  {
   "cell_type": "code",
   "execution_count": 19,
   "metadata": {},
   "outputs": [
    {
     "data": {
      "text/plain": [
       "1555"
      ]
     },
     "execution_count": 19,
     "metadata": {},
     "output_type": "execute_result"
    }
   ],
   "source": [
    "df['Distance_Km'].isnull().sum()"
   ]
  },
  {
   "cell_type": "code",
   "execution_count": 20,
   "metadata": {},
   "outputs": [
    {
     "data": {
      "text/plain": [
       "Text(0.5, 1.0, 'Distance_Km Distribution')"
      ]
     },
     "execution_count": 20,
     "metadata": {},
     "output_type": "execute_result"
    },
    {
     "data": {
      "image/png": "[encoded data removed]",
      "text/plain": [
       "<Figure size 432x288 with 1 Axes>"
      ]
     },
     "metadata": {
      "needs_background": "light"
     },
     "output_type": "display_data"
    }
   ],
   "source": [
    "df['Distance_Km'].plot(kind = 'box')\n",
    "plt.title('Distance_Km Distribution')"
   ]
  },
  {
   "cell_type": "markdown",
   "metadata": {},
   "source": [
    "# Filling with the mean"
   ]
  },
  {
   "cell_type": "code",
   "execution_count": 21,
   "metadata": {},
   "outputs": [
    {
     "data": {
      "text/html": [
       "<div>\n",
       "<style scoped>\n",
       "    .dataframe tbody tr th:only-of-type {\n",
       "        vertical-align: middle;\n",
       "    }\n",
       "\n",
       "    .dataframe tbody tr th {\n",
       "        vertical-align: top;\n",
       "    }\n",
       "\n",
       "    .dataframe thead th {\n",
       "        text-align: right;\n",
       "    }\n",
       "</style>\n",
       "<table border=\"1\" class=\"dataframe\">\n",
       "  <thead>\n",
       "    <tr style=\"text-align: right;\">\n",
       "      <th></th>\n",
       "      <th>Location</th>\n",
       "      <th>Maker</th>\n",
       "      <th>Colour</th>\n",
       "      <th>Amount (Million ₦)</th>\n",
       "      <th>Type</th>\n",
       "      <th>Distance_Km</th>\n",
       "      <th>Age</th>\n",
       "    </tr>\n",
       "  </thead>\n",
       "  <tbody>\n",
       "    <tr>\n",
       "      <th>0</th>\n",
       "      <td>0</td>\n",
       "      <td>26</td>\n",
       "      <td>3</td>\n",
       "      <td>14.50</td>\n",
       "      <td>1</td>\n",
       "      <td>50000.0</td>\n",
       "      <td>7</td>\n",
       "    </tr>\n",
       "    <tr>\n",
       "      <th>1</th>\n",
       "      <td>0</td>\n",
       "      <td>14</td>\n",
       "      <td>14</td>\n",
       "      <td>1.55</td>\n",
       "      <td>2</td>\n",
       "      <td>NaN</td>\n",
       "      <td>9</td>\n",
       "    </tr>\n",
       "    <tr>\n",
       "      <th>2</th>\n",
       "      <td>2</td>\n",
       "      <td>23</td>\n",
       "      <td>17</td>\n",
       "      <td>14.00</td>\n",
       "      <td>1</td>\n",
       "      <td>85000.0</td>\n",
       "      <td>11</td>\n",
       "    </tr>\n",
       "    <tr>\n",
       "      <th>3</th>\n",
       "      <td>2</td>\n",
       "      <td>23</td>\n",
       "      <td>6</td>\n",
       "      <td>4.95</td>\n",
       "      <td>1</td>\n",
       "      <td>NaN</td>\n",
       "      <td>11</td>\n",
       "    </tr>\n",
       "    <tr>\n",
       "      <th>4</th>\n",
       "      <td>1</td>\n",
       "      <td>44</td>\n",
       "      <td>15</td>\n",
       "      <td>1.69</td>\n",
       "      <td>2</td>\n",
       "      <td>118906.0</td>\n",
       "      <td>13</td>\n",
       "    </tr>\n",
       "  </tbody>\n",
       "</table>\n",
       "</div>"
      ],
      "text/plain": [
       "   Location  Maker  Colour  Amount (Million ₦)  Type  Distance_Km  Age\n",
       "0         0     26       3               14.50     1      50000.0    7\n",
       "1         0     14      14                1.55     2          NaN    9\n",
       "2         2     23      17               14.00     1      85000.0   11\n",
       "3         2     23       6                4.95     1          NaN   11\n",
       "4         1     44      15                1.69     2     118906.0   13"
      ]
     },
     "execution_count": 21,
     "metadata": {},
     "output_type": "execute_result"
    }
   ],
   "source": [
    "df_mean = df.copy()\n",
    "df_mean.head()"
   ]
  },
  {
   "cell_type": "code",
   "execution_count": 22,
   "metadata": {},
   "outputs": [],
   "source": [
    "mean_imputer = SimpleImputer(strategy = 'mean')\n",
    "df_mean['Distance_Km'] = mean_imputer.fit_transform(df_mean['Distance_Km'].values.reshape(-1,1))"
   ]
  },
  {
   "cell_type": "code",
   "execution_count": 23,
   "metadata": {},
   "outputs": [
    {
     "data": {
      "text/html": [
       "<div>\n",
       "<style scoped>\n",
       "    .dataframe tbody tr th:only-of-type {\n",
       "        vertical-align: middle;\n",
       "    }\n",
       "\n",
       "    .dataframe tbody tr th {\n",
       "        vertical-align: top;\n",
       "    }\n",
       "\n",
       "    .dataframe thead th {\n",
       "        text-align: right;\n",
       "    }\n",
       "</style>\n",
       "<table border=\"1\" class=\"dataframe\">\n",
       "  <thead>\n",
       "    <tr style=\"text-align: right;\">\n",
       "      <th></th>\n",
       "      <th>Location</th>\n",
       "      <th>Maker</th>\n",
       "      <th>Colour</th>\n",
       "      <th>Amount (Million ₦)</th>\n",
       "      <th>Type</th>\n",
       "      <th>Distance_Km</th>\n",
       "      <th>Age</th>\n",
       "    </tr>\n",
       "  </thead>\n",
       "  <tbody>\n",
       "    <tr>\n",
       "      <th>0</th>\n",
       "      <td>0</td>\n",
       "      <td>26</td>\n",
       "      <td>3</td>\n",
       "      <td>14.50</td>\n",
       "      <td>1</td>\n",
       "      <td>50000.000000</td>\n",
       "      <td>7</td>\n",
       "    </tr>\n",
       "    <tr>\n",
       "      <th>1</th>\n",
       "      <td>0</td>\n",
       "      <td>14</td>\n",
       "      <td>14</td>\n",
       "      <td>1.55</td>\n",
       "      <td>2</td>\n",
       "      <td>101038.321282</td>\n",
       "      <td>9</td>\n",
       "    </tr>\n",
       "    <tr>\n",
       "      <th>2</th>\n",
       "      <td>2</td>\n",
       "      <td>23</td>\n",
       "      <td>17</td>\n",
       "      <td>14.00</td>\n",
       "      <td>1</td>\n",
       "      <td>85000.000000</td>\n",
       "      <td>11</td>\n",
       "    </tr>\n",
       "    <tr>\n",
       "      <th>3</th>\n",
       "      <td>2</td>\n",
       "      <td>23</td>\n",
       "      <td>6</td>\n",
       "      <td>4.95</td>\n",
       "      <td>1</td>\n",
       "      <td>101038.321282</td>\n",
       "      <td>11</td>\n",
       "    </tr>\n",
       "    <tr>\n",
       "      <th>4</th>\n",
       "      <td>1</td>\n",
       "      <td>44</td>\n",
       "      <td>15</td>\n",
       "      <td>1.69</td>\n",
       "      <td>2</td>\n",
       "      <td>118906.000000</td>\n",
       "      <td>13</td>\n",
       "    </tr>\n",
       "  </tbody>\n",
       "</table>\n",
       "</div>"
      ],
      "text/plain": [
       "   Location  Maker  Colour  Amount (Million ₦)  Type    Distance_Km  Age\n",
       "0         0     26       3               14.50     1   50000.000000    7\n",
       "1         0     14      14                1.55     2  101038.321282    9\n",
       "2         2     23      17               14.00     1   85000.000000   11\n",
       "3         2     23       6                4.95     1  101038.321282   11\n",
       "4         1     44      15                1.69     2  118906.000000   13"
      ]
     },
     "execution_count": 23,
     "metadata": {},
     "output_type": "execute_result"
    }
   ],
   "source": [
    "df_mean.head()"
   ]
  },
  {
   "cell_type": "code",
   "execution_count": 24,
   "metadata": {},
   "outputs": [
    {
     "data": {
      "image/png": "[encoded data removed]",
      "text/plain": [
       "<Figure size 432x288 with 1 Axes>"
      ]
     },
     "metadata": {
      "needs_background": "light"
     },
     "output_type": "display_data"
    }
   ],
   "source": [
    "df_mean['Distance_Km'].plot(kind = 'box')\n",
    "plt.title('Distance_Km Distribution after Mean Inputation of null values');"
   ]
  },
  {
   "cell_type": "markdown",
   "metadata": {},
   "source": [
    "# Filling with the median"
   ]
  },
  {
   "cell_type": "code",
   "execution_count": 25,
   "metadata": {},
   "outputs": [
    {
     "data": {
      "text/html": [
       "<div>\n",
       "<style scoped>\n",
       "    .dataframe tbody tr th:only-of-type {\n",
       "        vertical-align: middle;\n",
       "    }\n",
       "\n",
       "    .dataframe tbody tr th {\n",
       "        vertical-align: top;\n",
       "    }\n",
       "\n",
       "    .dataframe thead th {\n",
       "        text-align: right;\n",
       "    }\n",
       "</style>\n",
       "<table border=\"1\" class=\"dataframe\">\n",
       "  <thead>\n",
       "    <tr style=\"text-align: right;\">\n",
       "      <th></th>\n",
       "      <th>Location</th>\n",
       "      <th>Maker</th>\n",
       "      <th>Colour</th>\n",
       "      <th>Amount (Million ₦)</th>\n",
       "      <th>Type</th>\n",
       "      <th>Distance_Km</th>\n",
       "      <th>Age</th>\n",
       "    </tr>\n",
       "  </thead>\n",
       "  <tbody>\n",
       "    <tr>\n",
       "      <th>0</th>\n",
       "      <td>0</td>\n",
       "      <td>26</td>\n",
       "      <td>3</td>\n",
       "      <td>14.50</td>\n",
       "      <td>1</td>\n",
       "      <td>50000.0</td>\n",
       "      <td>7</td>\n",
       "    </tr>\n",
       "    <tr>\n",
       "      <th>1</th>\n",
       "      <td>0</td>\n",
       "      <td>14</td>\n",
       "      <td>14</td>\n",
       "      <td>1.55</td>\n",
       "      <td>2</td>\n",
       "      <td>NaN</td>\n",
       "      <td>9</td>\n",
       "    </tr>\n",
       "    <tr>\n",
       "      <th>2</th>\n",
       "      <td>2</td>\n",
       "      <td>23</td>\n",
       "      <td>17</td>\n",
       "      <td>14.00</td>\n",
       "      <td>1</td>\n",
       "      <td>85000.0</td>\n",
       "      <td>11</td>\n",
       "    </tr>\n",
       "    <tr>\n",
       "      <th>3</th>\n",
       "      <td>2</td>\n",
       "      <td>23</td>\n",
       "      <td>6</td>\n",
       "      <td>4.95</td>\n",
       "      <td>1</td>\n",
       "      <td>NaN</td>\n",
       "      <td>11</td>\n",
       "    </tr>\n",
       "    <tr>\n",
       "      <th>4</th>\n",
       "      <td>1</td>\n",
       "      <td>44</td>\n",
       "      <td>15</td>\n",
       "      <td>1.69</td>\n",
       "      <td>2</td>\n",
       "      <td>118906.0</td>\n",
       "      <td>13</td>\n",
       "    </tr>\n",
       "  </tbody>\n",
       "</table>\n",
       "</div>"
      ],
      "text/plain": [
       "   Location  Maker  Colour  Amount (Million ₦)  Type  Distance_Km  Age\n",
       "0         0     26       3               14.50     1      50000.0    7\n",
       "1         0     14      14                1.55     2          NaN    9\n",
       "2         2     23      17               14.00     1      85000.0   11\n",
       "3         2     23       6                4.95     1          NaN   11\n",
       "4         1     44      15                1.69     2     118906.0   13"
      ]
     },
     "execution_count": 25,
     "metadata": {},
     "output_type": "execute_result"
    }
   ],
   "source": [
    "df_median = df.copy()\n",
    "df_median.head()"
   ]
  },
  {
   "cell_type": "code",
   "execution_count": 26,
   "metadata": {},
   "outputs": [],
   "source": [
    "median_imputer = SimpleImputer(strategy = 'median')\n",
    "df_median['Distance_Km'] = median_imputer.fit_transform(df_median['Distance_Km'].values.reshape(-1,1))"
   ]
  },
  {
   "cell_type": "code",
   "execution_count": 27,
   "metadata": {},
   "outputs": [
    {
     "data": {
      "text/html": [
       "<div>\n",
       "<style scoped>\n",
       "    .dataframe tbody tr th:only-of-type {\n",
       "        vertical-align: middle;\n",
       "    }\n",
       "\n",
       "    .dataframe tbody tr th {\n",
       "        vertical-align: top;\n",
       "    }\n",
       "\n",
       "    .dataframe thead th {\n",
       "        text-align: right;\n",
       "    }\n",
       "</style>\n",
       "<table border=\"1\" class=\"dataframe\">\n",
       "  <thead>\n",
       "    <tr style=\"text-align: right;\">\n",
       "      <th></th>\n",
       "      <th>Location</th>\n",
       "      <th>Maker</th>\n",
       "      <th>Colour</th>\n",
       "      <th>Amount (Million ₦)</th>\n",
       "      <th>Type</th>\n",
       "      <th>Distance_Km</th>\n",
       "      <th>Age</th>\n",
       "    </tr>\n",
       "  </thead>\n",
       "  <tbody>\n",
       "    <tr>\n",
       "      <th>0</th>\n",
       "      <td>0</td>\n",
       "      <td>26</td>\n",
       "      <td>3</td>\n",
       "      <td>14.50</td>\n",
       "      <td>1</td>\n",
       "      <td>50000.0</td>\n",
       "      <td>7</td>\n",
       "    </tr>\n",
       "    <tr>\n",
       "      <th>1</th>\n",
       "      <td>0</td>\n",
       "      <td>14</td>\n",
       "      <td>14</td>\n",
       "      <td>1.55</td>\n",
       "      <td>2</td>\n",
       "      <td>79000.0</td>\n",
       "      <td>9</td>\n",
       "    </tr>\n",
       "    <tr>\n",
       "      <th>2</th>\n",
       "      <td>2</td>\n",
       "      <td>23</td>\n",
       "      <td>17</td>\n",
       "      <td>14.00</td>\n",
       "      <td>1</td>\n",
       "      <td>85000.0</td>\n",
       "      <td>11</td>\n",
       "    </tr>\n",
       "    <tr>\n",
       "      <th>3</th>\n",
       "      <td>2</td>\n",
       "      <td>23</td>\n",
       "      <td>6</td>\n",
       "      <td>4.95</td>\n",
       "      <td>1</td>\n",
       "      <td>79000.0</td>\n",
       "      <td>11</td>\n",
       "    </tr>\n",
       "    <tr>\n",
       "      <th>4</th>\n",
       "      <td>1</td>\n",
       "      <td>44</td>\n",
       "      <td>15</td>\n",
       "      <td>1.69</td>\n",
       "      <td>2</td>\n",
       "      <td>118906.0</td>\n",
       "      <td>13</td>\n",
       "    </tr>\n",
       "  </tbody>\n",
       "</table>\n",
       "</div>"
      ],
      "text/plain": [
       "   Location  Maker  Colour  Amount (Million ₦)  Type  Distance_Km  Age\n",
       "0         0     26       3               14.50     1      50000.0    7\n",
       "1         0     14      14                1.55     2      79000.0    9\n",
       "2         2     23      17               14.00     1      85000.0   11\n",
       "3         2     23       6                4.95     1      79000.0   11\n",
       "4         1     44      15                1.69     2     118906.0   13"
      ]
     },
     "execution_count": 27,
     "metadata": {},
     "output_type": "execute_result"
    }
   ],
   "source": [
    "df_median.head()"
   ]
  },
  {
   "cell_type": "code",
   "execution_count": 28,
   "metadata": {},
   "outputs": [
    {
     "data": {
      "image/png": "[encoded data removed]",
      "text/plain": [
       "<Figure size 432x288 with 1 Axes>"
      ]
     },
     "metadata": {
      "needs_background": "light"
     },
     "output_type": "display_data"
    }
   ],
   "source": [
    "df_median['Distance_Km'].plot(kind = 'box')\n",
    "plt.title('Distance_Km Distribution after Median Inputation of null values');"
   ]
  },
  {
   "cell_type": "markdown",
   "metadata": {},
   "source": [
    "# Filling with KNN imputer"
   ]
  },
  {
   "cell_type": "code",
   "execution_count": 29,
   "metadata": {},
   "outputs": [
    {
     "data": {
      "text/html": [
       "<div>\n",
       "<style scoped>\n",
       "    .dataframe tbody tr th:only-of-type {\n",
       "        vertical-align: middle;\n",
       "    }\n",
       "\n",
       "    .dataframe tbody tr th {\n",
       "        vertical-align: top;\n",
       "    }\n",
       "\n",
       "    .dataframe thead th {\n",
       "        text-align: right;\n",
       "    }\n",
       "</style>\n",
       "<table border=\"1\" class=\"dataframe\">\n",
       "  <thead>\n",
       "    <tr style=\"text-align: right;\">\n",
       "      <th></th>\n",
       "      <th>Location</th>\n",
       "      <th>Maker</th>\n",
       "      <th>Colour</th>\n",
       "      <th>Amount (Million ₦)</th>\n",
       "      <th>Type</th>\n",
       "      <th>Distance_Km</th>\n",
       "      <th>Age</th>\n",
       "    </tr>\n",
       "  </thead>\n",
       "  <tbody>\n",
       "    <tr>\n",
       "      <th>0</th>\n",
       "      <td>0</td>\n",
       "      <td>26</td>\n",
       "      <td>3</td>\n",
       "      <td>14.50</td>\n",
       "      <td>1</td>\n",
       "      <td>50000.0</td>\n",
       "      <td>7</td>\n",
       "    </tr>\n",
       "    <tr>\n",
       "      <th>1</th>\n",
       "      <td>0</td>\n",
       "      <td>14</td>\n",
       "      <td>14</td>\n",
       "      <td>1.55</td>\n",
       "      <td>2</td>\n",
       "      <td>NaN</td>\n",
       "      <td>9</td>\n",
       "    </tr>\n",
       "    <tr>\n",
       "      <th>2</th>\n",
       "      <td>2</td>\n",
       "      <td>23</td>\n",
       "      <td>17</td>\n",
       "      <td>14.00</td>\n",
       "      <td>1</td>\n",
       "      <td>85000.0</td>\n",
       "      <td>11</td>\n",
       "    </tr>\n",
       "    <tr>\n",
       "      <th>3</th>\n",
       "      <td>2</td>\n",
       "      <td>23</td>\n",
       "      <td>6</td>\n",
       "      <td>4.95</td>\n",
       "      <td>1</td>\n",
       "      <td>NaN</td>\n",
       "      <td>11</td>\n",
       "    </tr>\n",
       "    <tr>\n",
       "      <th>4</th>\n",
       "      <td>1</td>\n",
       "      <td>44</td>\n",
       "      <td>15</td>\n",
       "      <td>1.69</td>\n",
       "      <td>2</td>\n",
       "      <td>118906.0</td>\n",
       "      <td>13</td>\n",
       "    </tr>\n",
       "  </tbody>\n",
       "</table>\n",
       "</div>"
      ],
      "text/plain": [
       "   Location  Maker  Colour  Amount (Million ₦)  Type  Distance_Km  Age\n",
       "0         0     26       3               14.50     1      50000.0    7\n",
       "1         0     14      14                1.55     2          NaN    9\n",
       "2         2     23      17               14.00     1      85000.0   11\n",
       "3         2     23       6                4.95     1          NaN   11\n",
       "4         1     44      15                1.69     2     118906.0   13"
      ]
     },
     "execution_count": 29,
     "metadata": {},
     "output_type": "execute_result"
    }
   ],
   "source": [
    "df_knn = df.copy()\n",
    "df_knn.head()"
   ]
  },
  {
   "cell_type": "code",
   "execution_count": 30,
   "metadata": {},
   "outputs": [
    {
     "data": {
      "text/html": [
       "<div>\n",
       "<style scoped>\n",
       "    .dataframe tbody tr th:only-of-type {\n",
       "        vertical-align: middle;\n",
       "    }\n",
       "\n",
       "    .dataframe tbody tr th {\n",
       "        vertical-align: top;\n",
       "    }\n",
       "\n",
       "    .dataframe thead th {\n",
       "        text-align: right;\n",
       "    }\n",
       "</style>\n",
       "<table border=\"1\" class=\"dataframe\">\n",
       "  <thead>\n",
       "    <tr style=\"text-align: right;\">\n",
       "      <th></th>\n",
       "      <th>Location</th>\n",
       "      <th>Maker</th>\n",
       "      <th>Colour</th>\n",
       "      <th>Amount (Million ₦)</th>\n",
       "      <th>Type</th>\n",
       "      <th>Distance_Km</th>\n",
       "      <th>Age</th>\n",
       "    </tr>\n",
       "  </thead>\n",
       "  <tbody>\n",
       "    <tr>\n",
       "      <th>0</th>\n",
       "      <td>0</td>\n",
       "      <td>26</td>\n",
       "      <td>3</td>\n",
       "      <td>14.50</td>\n",
       "      <td>1</td>\n",
       "      <td>50000.000000</td>\n",
       "      <td>7</td>\n",
       "    </tr>\n",
       "    <tr>\n",
       "      <th>1</th>\n",
       "      <td>0</td>\n",
       "      <td>14</td>\n",
       "      <td>14</td>\n",
       "      <td>1.55</td>\n",
       "      <td>2</td>\n",
       "      <td>101038.321282</td>\n",
       "      <td>9</td>\n",
       "    </tr>\n",
       "    <tr>\n",
       "      <th>2</th>\n",
       "      <td>2</td>\n",
       "      <td>23</td>\n",
       "      <td>17</td>\n",
       "      <td>14.00</td>\n",
       "      <td>1</td>\n",
       "      <td>85000.000000</td>\n",
       "      <td>11</td>\n",
       "    </tr>\n",
       "    <tr>\n",
       "      <th>3</th>\n",
       "      <td>2</td>\n",
       "      <td>23</td>\n",
       "      <td>6</td>\n",
       "      <td>4.95</td>\n",
       "      <td>1</td>\n",
       "      <td>101038.321282</td>\n",
       "      <td>11</td>\n",
       "    </tr>\n",
       "    <tr>\n",
       "      <th>4</th>\n",
       "      <td>1</td>\n",
       "      <td>44</td>\n",
       "      <td>15</td>\n",
       "      <td>1.69</td>\n",
       "      <td>2</td>\n",
       "      <td>118906.000000</td>\n",
       "      <td>13</td>\n",
       "    </tr>\n",
       "  </tbody>\n",
       "</table>\n",
       "</div>"
      ],
      "text/plain": [
       "   Location  Maker  Colour  Amount (Million ₦)  Type    Distance_Km  Age\n",
       "0         0     26       3               14.50     1   50000.000000    7\n",
       "1         0     14      14                1.55     2  101038.321282    9\n",
       "2         2     23      17               14.00     1   85000.000000   11\n",
       "3         2     23       6                4.95     1  101038.321282   11\n",
       "4         1     44      15                1.69     2  118906.000000   13"
      ]
     },
     "execution_count": 30,
     "metadata": {},
     "output_type": "execute_result"
    }
   ],
   "source": [
    "knn_imputer = KNNImputer(n_neighbors=5, weights='uniform', metric='nan_euclidean')\n",
    "df_knn['Distance_Km'] = pd.DataFrame(knn_imputer.fit_transform(df_knn['Distance_Km'].values.reshape(-1, 1)))\n",
    "df_knn.head()"
   ]
  },
  {
   "cell_type": "code",
   "execution_count": 31,
   "metadata": {},
   "outputs": [
    {
     "data": {
      "image/png": "[encoded data removed]",
      "text/plain": [
       "<Figure size 432x288 with 1 Axes>"
      ]
     },
     "metadata": {
      "needs_background": "light"
     },
     "output_type": "display_data"
    }
   ],
   "source": [
    "df_knn['Distance_Km'].plot(kind = 'box')\n",
    "plt.title('Distance_Km Distribution after KNN Inputation of null values');"
   ]
  },
  {
   "cell_type": "markdown",
   "metadata": {},
   "source": [
    "# Building models for each form of imputing"
   ]
  },
  {
   "cell_type": "markdown",
   "metadata": {},
   "source": [
    "## Mean Imputation Model"
   ]
  },
  {
   "cell_type": "code",
   "execution_count": 32,
   "metadata": {},
   "outputs": [],
   "source": [
    "#Splitting dataset into train and test\n",
    "X = np.array(df_mean.drop(['Amount (Million ₦)'], 1))\n",
    "y = np.array(df_mean['Amount (Million ₦)'])"
   ]
  },
  {
   "cell_type": "code",
   "execution_count": 33,
   "metadata": {},
   "outputs": [
    {
     "name": "stdout",
     "output_type": "stream",
     "text": [
      "4487 4487\n"
     ]
    }
   ],
   "source": [
    "print(len(X), len(y))"
   ]
  },
  {
   "cell_type": "code",
   "execution_count": 34,
   "metadata": {},
   "outputs": [],
   "source": [
    "X_train, X_test, y_train, y_test = train_test_split(X, y, test_size = 0.2)"
   ]
  },
  {
   "cell_type": "code",
   "execution_count": 35,
   "metadata": {},
   "outputs": [
    {
     "name": "stdout",
     "output_type": "stream",
     "text": [
      "0.3609580119757688\n"
     ]
    }
   ],
   "source": [
    "lr = LinearRegression()\n",
    "lr.fit(X_train, y_train)\n",
    "mean_acc_lr = lr.score(X_test, y_test)\n",
    "print(mean_acc_lr)"
   ]
  },
  {
   "cell_type": "code",
   "execution_count": 36,
   "metadata": {},
   "outputs": [
    {
     "name": "stdout",
     "output_type": "stream",
     "text": [
      "Mean squared error is 182.88087411610323\n",
      "Mean absolute error is 7.547656179423793\n"
     ]
    }
   ],
   "source": [
    "#making predictions and checking error\n",
    "y_pred = lr.predict(X_test)\n",
    "mean_mse_lr = mean_squared_error(y_test, y_pred)\n",
    "mean_mae_lr = mean_absolute_error(y_test, y_pred)\n",
    "print('Mean squared error is {}'.format(mean_mse_lr))\n",
    "print('Mean absolute error is {}'.format(mean_mae_lr))"
   ]
  },
  {
   "cell_type": "code",
   "execution_count": 37,
   "metadata": {},
   "outputs": [
    {
     "name": "stdout",
     "output_type": "stream",
     "text": [
      "[22:28:17] WARNING: src/objective/regression_obj.cu:152: reg:linear is now deprecated in favor of reg:squarederror.\n",
      "0.5501628202747051\n"
     ]
    }
   ],
   "source": [
    "xgr = XGBRegressor()\n",
    "xgr.fit(X_train, y_train)\n",
    "mean_acc_xgr = xgr.score(X_test, y_test)\n",
    "print(mean_acc_xgr)"
   ]
  },
  {
   "cell_type": "code",
   "execution_count": 38,
   "metadata": {},
   "outputs": [
    {
     "name": "stdout",
     "output_type": "stream",
     "text": [
      "Mean squared error is 128.7342900463141\n",
      "Mean absolute error is 4.347052286284595\n"
     ]
    }
   ],
   "source": [
    "#making predictions and checking error\n",
    "y_pred = xgr.predict(X_test)\n",
    "mean_mse_xgr = mean_squared_error(y_test, y_pred)\n",
    "mean_mae_xgr = mean_absolute_error(y_test, y_pred)\n",
    "print('Mean squared error is {}'.format(mean_mse_xgr))\n",
    "print('Mean absolute error is {}'.format(mean_mae_xgr))"
   ]
  },
  {
   "cell_type": "markdown",
   "metadata": {},
   "source": [
    "## Median Imputation Model"
   ]
  },
  {
   "cell_type": "code",
   "execution_count": 39,
   "metadata": {},
   "outputs": [],
   "source": [
    "#Splitting dataset into train and test\n",
    "X = np.array(df_median.drop(['Amount (Million ₦)'], 1))\n",
    "y = np.array(df_median['Amount (Million ₦)'])"
   ]
  },
  {
   "cell_type": "code",
   "execution_count": 40,
   "metadata": {
    "scrolled": true
   },
   "outputs": [
    {
     "name": "stdout",
     "output_type": "stream",
     "text": [
      "4487 4487\n"
     ]
    }
   ],
   "source": [
    "print(len(X), len(y))"
   ]
  },
  {
   "cell_type": "code",
   "execution_count": 41,
   "metadata": {},
   "outputs": [],
   "source": [
    "X_train, X_test, y_train, y_test = train_test_split(X, y, test_size = 0.2)"
   ]
  },
  {
   "cell_type": "code",
   "execution_count": 42,
   "metadata": {
    "scrolled": true
   },
   "outputs": [
    {
     "name": "stdout",
     "output_type": "stream",
     "text": [
      "0.3580647397200204\n"
     ]
    }
   ],
   "source": [
    "lr = LinearRegression()\n",
    "lr.fit(X_train, y_train)\n",
    "median_acc_lr = lr.score(X_test, y_test)\n",
    "print(median_acc_lr)"
   ]
  },
  {
   "cell_type": "code",
   "execution_count": 43,
   "metadata": {},
   "outputs": [
    {
     "name": "stdout",
     "output_type": "stream",
     "text": [
      "Mean squared error is 172.52178824037125\n",
      "Mean absolute error is 7.749936131637013\n"
     ]
    }
   ],
   "source": [
    "#making predictions and checking error\n",
    "y_pred = lr.predict(X_test)\n",
    "median_mse_lr = mean_squared_error(y_test, y_pred)\n",
    "median_mae_lr = mean_absolute_error(y_test, y_pred)\n",
    "print('Mean squared error is {}'.format(median_mse_lr))\n",
    "print('Mean absolute error is {}'.format(median_mae_lr))"
   ]
  },
  {
   "cell_type": "code",
   "execution_count": 44,
   "metadata": {},
   "outputs": [
    {
     "name": "stdout",
     "output_type": "stream",
     "text": [
      "[22:28:19] WARNING: src/objective/regression_obj.cu:152: reg:linear is now deprecated in favor of reg:squarederror.\n",
      "0.6162027546545881\n"
     ]
    }
   ],
   "source": [
    "xgr = XGBRegressor()\n",
    "xgr.fit(X_train, y_train)\n",
    "median_acc_xgr = xgr.score(X_test, y_test)\n",
    "print(median_acc_xgr)"
   ]
  },
  {
   "cell_type": "code",
   "execution_count": 45,
   "metadata": {
    "scrolled": true
   },
   "outputs": [
    {
     "name": "stdout",
     "output_type": "stream",
     "text": [
      "Mean squared error is 103.14651832622503\n",
      "Mean absolute error is 4.032382498495806\n"
     ]
    }
   ],
   "source": [
    "#making predictions and checking error\n",
    "y_pred = xgr.predict(X_test)\n",
    "median_mse_xgr = mean_squared_error(y_test, y_pred)\n",
    "median_mae_xgr = mean_absolute_error(y_test, y_pred)\n",
    "print('Mean squared error is {}'.format(median_mse_xgr))\n",
    "print('Mean absolute error is {}'.format(median_mae_xgr))"
   ]
  },
  {
   "cell_type": "markdown",
   "metadata": {},
   "source": [
    "## KNN Imputation Model"
   ]
  },
  {
   "cell_type": "code",
   "execution_count": 46,
   "metadata": {},
   "outputs": [],
   "source": [
    "#Splitting dataset into train and test\n",
    "X = np.array(df_knn.drop(['Amount (Million ₦)'], 1))\n",
    "y = np.array(df_knn['Amount (Million ₦)'])"
   ]
  },
  {
   "cell_type": "code",
   "execution_count": 47,
   "metadata": {
    "scrolled": true
   },
   "outputs": [
    {
     "name": "stdout",
     "output_type": "stream",
     "text": [
      "4487 4487\n"
     ]
    }
   ],
   "source": [
    "print(len(X), len(y))"
   ]
  },
  {
   "cell_type": "code",
   "execution_count": 48,
   "metadata": {},
   "outputs": [],
   "source": [
    "X_train, X_test, y_train, y_test = train_test_split(X, y, test_size = 0.2)"
   ]
  },
  {
   "cell_type": "code",
   "execution_count": 49,
   "metadata": {
    "scrolled": true
   },
   "outputs": [
    {
     "name": "stdout",
     "output_type": "stream",
     "text": [
      "0.3246394738011903\n"
     ]
    }
   ],
   "source": [
    "lr = LinearRegression()\n",
    "lr.fit(X_train, y_train)\n",
    "knn_acc_lr = lr.score(X_test, y_test)\n",
    "print(knn_acc_lr)"
   ]
  },
  {
   "cell_type": "code",
   "execution_count": 50,
   "metadata": {},
   "outputs": [
    {
     "name": "stdout",
     "output_type": "stream",
     "text": [
      "Mean squared error is 229.02181752446623\n",
      "Mean absolute error is 7.958807677576884\n"
     ]
    }
   ],
   "source": [
    "#making predictions and checking error\n",
    "y_pred = lr.predict(X_test)\n",
    "knn_mse_lr = mean_squared_error(y_test, y_pred)\n",
    "knn_mae_lr = mean_absolute_error(y_test, y_pred)\n",
    "print('Mean squared error is {}'.format(knn_mse_lr))\n",
    "print('Mean absolute error is {}'.format(knn_mae_lr))"
   ]
  },
  {
   "cell_type": "code",
   "execution_count": 51,
   "metadata": {},
   "outputs": [
    {
     "name": "stdout",
     "output_type": "stream",
     "text": [
      "[22:28:21] WARNING: src/objective/regression_obj.cu:152: reg:linear is now deprecated in favor of reg:squarederror.\n",
      "0.6564214471432985\n"
     ]
    }
   ],
   "source": [
    "xgr = XGBRegressor()\n",
    "xgr.fit(X_train, y_train)\n",
    "knn_acc_xgr = xgr.score(X_test, y_test)\n",
    "print(knn_acc_xgr)"
   ]
  },
  {
   "cell_type": "code",
   "execution_count": 52,
   "metadata": {
    "scrolled": true
   },
   "outputs": [
    {
     "name": "stdout",
     "output_type": "stream",
     "text": [
      "Mean squared error is 116.51108050473198\n",
      "Mean absolute error is 4.308601792036248\n"
     ]
    }
   ],
   "source": [
    "#making predictions and checking error\n",
    "y_pred = xgr.predict(X_test)\n",
    "knn_mse_xgr = mean_squared_error(y_test, y_pred)\n",
    "knn_mae_xgr = mean_absolute_error(y_test, y_pred)\n",
    "print('Mean squared error is {}'.format(knn_mse_xgr))\n",
    "print('Mean absolute error is {}'.format(knn_mae_xgr))"
   ]
  },
  {
   "cell_type": "markdown",
   "metadata": {},
   "source": [
    "# Collating Results"
   ]
  },
  {
   "cell_type": "code",
   "execution_count": 53,
   "metadata": {},
   "outputs": [
    {
     "data": {
      "text/html": [
       "<div>\n",
       "<style scoped>\n",
       "    .dataframe tbody tr th:only-of-type {\n",
       "        vertical-align: middle;\n",
       "    }\n",
       "\n",
       "    .dataframe tbody tr th {\n",
       "        vertical-align: top;\n",
       "    }\n",
       "\n",
       "    .dataframe thead th {\n",
       "        text-align: right;\n",
       "    }\n",
       "</style>\n",
       "<table border=\"1\" class=\"dataframe\">\n",
       "  <thead>\n",
       "    <tr style=\"text-align: right;\">\n",
       "      <th></th>\n",
       "      <th>Input_Method</th>\n",
       "      <th>Acc_lr</th>\n",
       "      <th>MSE_lr</th>\n",
       "      <th>MAE_lr</th>\n",
       "      <th>Acc_xgr</th>\n",
       "      <th>MSE_xgr</th>\n",
       "      <th>MAE_xgr</th>\n",
       "    </tr>\n",
       "  </thead>\n",
       "  <tbody>\n",
       "    <tr>\n",
       "      <th>0</th>\n",
       "      <td>Mean</td>\n",
       "      <td>0.360958</td>\n",
       "      <td>182.880874</td>\n",
       "      <td>7.547656</td>\n",
       "      <td>0.550163</td>\n",
       "      <td>128.734290</td>\n",
       "      <td>4.347052</td>\n",
       "    </tr>\n",
       "    <tr>\n",
       "      <th>1</th>\n",
       "      <td>Median</td>\n",
       "      <td>0.358065</td>\n",
       "      <td>172.521788</td>\n",
       "      <td>7.749936</td>\n",
       "      <td>0.616203</td>\n",
       "      <td>103.146518</td>\n",
       "      <td>4.032382</td>\n",
       "    </tr>\n",
       "    <tr>\n",
       "      <th>2</th>\n",
       "      <td>KNN</td>\n",
       "      <td>0.324639</td>\n",
       "      <td>229.021818</td>\n",
       "      <td>7.958808</td>\n",
       "      <td>0.656421</td>\n",
       "      <td>116.511081</td>\n",
       "      <td>4.308602</td>\n",
       "    </tr>\n",
       "  </tbody>\n",
       "</table>\n",
       "</div>"
      ],
      "text/plain": [
       "  Input_Method    Acc_lr      MSE_lr    MAE_lr   Acc_xgr     MSE_xgr   MAE_xgr\n",
       "0         Mean  0.360958  182.880874  7.547656  0.550163  128.734290  4.347052\n",
       "1       Median  0.358065  172.521788  7.749936  0.616203  103.146518  4.032382\n",
       "2          KNN  0.324639  229.021818  7.958808  0.656421  116.511081  4.308602"
      ]
     },
     "execution_count": 53,
     "metadata": {},
     "output_type": "execute_result"
    }
   ],
   "source": [
    "#Putting Results in a Dataframe.\n",
    "mean = pd.Series({'Input_Method': 'Mean', \n",
    "                        'Acc_lr': mean_acc_lr, \n",
    "                        'MSE_lr': mean_mse_lr, \n",
    "                        'MAE_lr': mean_mae_lr, \n",
    "                        'Acc_xgr': mean_acc_xgr, \n",
    "                        'MSE_xgr': mean_mse_xgr, \n",
    "                        'MAE_xgr': mean_mae_xgr,})\n",
    "\n",
    "median = pd.Series({'Input_Method': 'Median', \n",
    "                        'Acc_lr': median_acc_lr, \n",
    "                        'MSE_lr': median_mse_lr, \n",
    "                        'MAE_lr': median_mae_lr, \n",
    "                        'Acc_xgr': median_acc_xgr, \n",
    "                        'MSE_xgr': median_mse_xgr, \n",
    "                        'MAE_xgr': median_mae_xgr,})\n",
    "\n",
    "knn = pd.Series({'Input_Method': 'KNN', \n",
    "                        'Acc_lr': knn_acc_lr, \n",
    "                        'MSE_lr': knn_mse_lr, \n",
    "                        'MAE_lr': knn_mae_lr, \n",
    "                        'Acc_xgr': knn_acc_xgr, \n",
    "                        'MSE_xgr': knn_mse_xgr, \n",
    "                        'MAE_xgr': knn_mae_xgr,})\n",
    "result_df = pd.DataFrame([mean, median, knn])\n",
    "result_df.head()"
   ]
  },
  {
   "cell_type": "markdown",
   "metadata": {},
   "source": [
    "- Accuracy Score: For LinearRegression, all Imputation Methods have very low accuracy score(some hyperparameter tuning and more data preprocessing can take care of this) with the Mean Input method having the best accuracy score followed by Median and then KNN. For XGBRegressor, the KNN Input method has the best accuracy score followed by Median and then Mean.\n",
    "\n",
    "- Mean Squared Error: For LinearRegression, the Median input method has the best MSE followed by Mean and then KNN. For XGBRegressor, the Median input method again has the best MSE followed by KNN and then Mean.\n",
    "\n",
    "- Mean Absolute Error: For LinearRegression, the Mean input method has the best MAE followed by Median and then KNN. For XGBRegressor, the Median input method has the best MAE followed by KNN and then Mean."
   ]
  },
  {
   "cell_type": "code",
   "execution_count": null,
   "metadata": {},
   "outputs": [],
   "source": []
  }
 ],
 "metadata": {
  "kernelspec": {
   "display_name": "Python 3",
   "language": "python",
   "name": "python3"
  },
  "language_info": {
   "codemirror_mode": {
    "name": "ipython",
    "version": 3
   },
   "file_extension": ".py",
   "mimetype": "text/x-python",
   "name": "python",
   "nbconvert_exporter": "python",
   "pygments_lexer": "ipython3",
   "version": "3.7.6"
  }
 },
 "nbformat": 4,
 "nbformat_minor": 4
}
